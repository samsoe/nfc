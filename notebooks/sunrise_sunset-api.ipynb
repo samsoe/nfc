{
 "cells": [
  {
   "cell_type": "markdown",
   "metadata": {},
   "source": [
    "## Goal\n",
    "* Gather sunset and sunrise times from an array of dates and locations and store results\n",
    "* edited to retrieve values for just KMSO\n",
    "\n",
    "\n",
    "https://sunrise-sunset.org/api"
   ]
  },
  {
   "cell_type": "code",
   "execution_count": 2,
   "metadata": {
    "collapsed": true
   },
   "outputs": [],
   "source": [
    "# Import tools\n",
    "from urllib.request import urlopen\n",
    "from datetime import timedelta, date, datetime\n",
    "from dateutil import tz\n",
    "import json\n",
    "import pandas as pd\n",
    "import time\n",
    "import os.path"
   ]
  },
  {
   "cell_type": "markdown",
   "metadata": {},
   "source": [
    "## Build Date Array"
   ]
  },
  {
   "cell_type": "code",
   "execution_count": 23,
   "metadata": {},
   "outputs": [],
   "source": [
    "def daterange(start_date, end_date):\n",
    "    for n in range(int ((end_date - start_date).days)):\n",
    "        yield start_date + timedelta(n)\n",
    "\n",
    "# Initialize date range start at 6/30 to compensate for UTC\n",
    "start_date = date(2017, 6, 30)\n",
    "end_date = date(2017, 11, 1)\n",
    "\n",
    "dates = []\n",
    "\n",
    "for single_date in daterange(start_date, end_date):\n",
    "        dates.append(single_date.strftime(\"%Y-%m-%d\"))"
   ]
  },
  {
   "cell_type": "code",
   "execution_count": 24,
   "metadata": {},
   "outputs": [
    {
     "name": "stdout",
     "output_type": "stream",
     "text": [
      "['2017-06-30', '2017-07-01', '2017-07-02', '2017-07-03']\n",
      "['2017-10-28', '2017-10-29', '2017-10-30', '2017-10-31']\n"
     ]
    }
   ],
   "source": [
    "print(dates[:4])\n",
    "print(dates[-4:])"
   ]
  },
  {
   "cell_type": "markdown",
   "metadata": {},
   "source": [
    "## Load Location Dictionary"
   ]
  },
  {
   "cell_type": "code",
   "execution_count": 52,
   "metadata": {},
   "outputs": [],
   "source": [
    "col_names = ['STID', 'LATITUDE', 'LONGITUDE']"
   ]
  },
  {
   "cell_type": "code",
   "execution_count": 65,
   "metadata": {},
   "outputs": [],
   "source": [
    "kmso_dict = [{'STID': 'KMSO', 'LATITUDE': 46.8701, 'LONGITUDE': -113.9953}]"
   ]
  },
  {
   "cell_type": "code",
   "execution_count": 76,
   "metadata": {},
   "outputs": [],
   "source": [
    "# make a new DataFrame to load into build_url_df\n",
    "station_kmso = pd.DataFrame(kmso_dict)"
   ]
  },
  {
   "cell_type": "markdown",
   "metadata": {},
   "source": [
    "## Build URLs"
   ]
  },
  {
   "cell_type": "code",
   "execution_count": 78,
   "metadata": {},
   "outputs": [],
   "source": [
    "def build_url_df(stations, dates): \n",
    "    url_station = []\n",
    "    # loop through stations in weather_monitoring-locations.csv\n",
    "    for index, row in stations.iterrows():\n",
    "        # loop through date range set above\n",
    "        for date in dates:\n",
    "            row_id = row['STID']\n",
    "            lat = row['LATITUDE']\n",
    "            lon = row['LONGITUDE']\n",
    "            row_url = 'https://api.sunrise-sunset.org/json?lat=' + str(lat) + '&lng=' + str(lon) + '&date=' + date + '&formatted=0'\n",
    "            url_station.append(dict({'station_id': row_id, 'url': row_url, 'date': date}))\n",
    "    return(url_station)"
   ]
  },
  {
   "cell_type": "code",
   "execution_count": 80,
   "metadata": {},
   "outputs": [],
   "source": [
    "# Generate url list for api calls\n",
    "url_batch = build_url_df(station_kmso, dates)"
   ]
  },
  {
   "cell_type": "code",
   "execution_count": 81,
   "metadata": {
    "scrolled": true
   },
   "outputs": [
    {
     "name": "stdout",
     "output_type": "stream",
     "text": [
      "Number of urls: 124\n",
      "----\n",
      " [{'station_id': 'KMSO', 'url': 'https://api.sunrise-sunset.org/json?lat=46.8701&lng=-113.9953&date=2017-10-31&formatted=0', 'date': '2017-10-31'}]\n"
     ]
    }
   ],
   "source": [
    "print('Number of urls: ' + str(len(url_batch)))\n",
    "print('----\\n', url_batch[-1:])"
   ]
  },
  {
   "cell_type": "markdown",
   "metadata": {},
   "source": [
    "## Call API and store results"
   ]
  },
  {
   "cell_type": "code",
   "execution_count": 71,
   "metadata": {},
   "outputs": [],
   "source": [
    "def api_call(url):\n",
    "    f = urlopen(url)\n",
    "    json_string = f.read()\n",
    "    parsed_json = json.loads(json_string)\n",
    "    \n",
    "    return parsed_json['results']"
   ]
  },
  {
   "cell_type": "code",
   "execution_count": 72,
   "metadata": {},
   "outputs": [],
   "source": [
    "def save_results(df_day, filepath):\n",
    "    if os.path.isfile(filepath):\n",
    "        with open(filepath, 'a') as f:\n",
    "            df_day.to_csv(f, header=False, index=False)\n",
    "    else:\n",
    "        df_day.to_csv(filepath, index=False)"
   ]
  },
  {
   "cell_type": "code",
   "execution_count": null,
   "metadata": {},
   "outputs": [],
   "source": [
    "%%time\n",
    "successfull_calls = 0\n",
    "\n",
    "# Loop over url_batch to call api and store results\n",
    "for url in url_batch:\n",
    "    # sleep to limit API call speed\n",
    "    #time.sleep(3)\n",
    "    \n",
    "    print(url['station_id'] + '\\n' + url['url'])\n",
    "    result = api_call(url['url'])\n",
    "    \n",
    "    # include station_id\n",
    "    result['station_id'] = url['station_id']\n",
    "    \n",
    "    # include date \n",
    "    result['date'] = url['date']\n",
    "    \n",
    "    df_day = pd.DataFrame.from_dict([result])\n",
    "\n",
    "    save_results(df_day, '../data/sunrise_sunset-KMSO_190209.csv')\n",
    "    \n",
    "    successfull_calls += 1\n",
    "    print('successfull_calls: ' + str(successfull_calls))"
   ]
  },
  {
   "cell_type": "markdown",
   "metadata": {},
   "source": [
    "#### Additional Resources\n",
    "[USNO](http://aa.usno.navy.mil/data/docs/RS_OneYear.php)"
   ]
  }
 ],
 "metadata": {
  "kernelspec": {
   "display_name": "Python 3",
   "language": "python",
   "name": "python3"
  },
  "language_info": {
   "codemirror_mode": {
    "name": "ipython",
    "version": 3
   },
   "file_extension": ".py",
   "mimetype": "text/x-python",
   "name": "python",
   "nbconvert_exporter": "python",
   "pygments_lexer": "ipython3",
   "version": "3.7.1"
  }
 },
 "nbformat": 4,
 "nbformat_minor": 2
}
