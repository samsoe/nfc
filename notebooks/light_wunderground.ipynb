{
 "cells": [
  {
   "cell_type": "markdown",
   "metadata": {},
   "source": [
    "#### *Collect sunset, sunrise times for wunderground*"
   ]
  },
  {
   "cell_type": "markdown",
   "metadata": {},
   "source": [
    "### Import libraries"
   ]
  },
  {
   "cell_type": "code",
   "execution_count": 177,
   "metadata": {
    "collapsed": true
   },
   "outputs": [],
   "source": [
    "# data structure\n",
    "import pandas as pd\n",
    "# time series\n",
    "from datetime import timedelta, date, datetime\n",
    "# api calling\n",
    "from urllib.request import urlopen\n",
    "# read json\n",
    "import json\n",
    "# time execution\n",
    "import time\n",
    "# save results\n",
    "import os.path"
   ]
  },
  {
   "cell_type": "markdown",
   "metadata": {},
   "source": [
    "### Load station location data"
   ]
  },
  {
   "cell_type": "code",
   "execution_count": 178,
   "metadata": {
    "collapsed": true
   },
   "outputs": [],
   "source": [
    "# file generated through Wunderground geolookup\n",
    "filename = '../data/geolookup-mso_stev_ham.csv'\n",
    "geolookup = pd.read_csv(filename)"
   ]
  },
  {
   "cell_type": "markdown",
   "metadata": {},
   "source": [
    "### View location data"
   ]
  },
  {
   "cell_type": "code",
   "execution_count": 179,
   "metadata": {},
   "outputs": [
    {
     "name": "stdout",
     "output_type": "stream",
     "text": [
      "<class 'pandas.core.frame.DataFrame'>\n",
      "RangeIndex: 42 entries, 0 to 41\n",
      "Data columns (total 9 columns):\n",
      "city            42 non-null object\n",
      "country         42 non-null object\n",
      "distance_km     42 non-null int64\n",
      "distance_mi     42 non-null int64\n",
      "id              42 non-null object\n",
      "lat             42 non-null float64\n",
      "lon             42 non-null float64\n",
      "neighborhood    40 non-null object\n",
      "state           42 non-null object\n",
      "dtypes: float64(2), int64(2), object(5)\n",
      "memory usage: 3.0+ KB\n"
     ]
    }
   ],
   "source": [
    "geolookup.info()"
   ]
  },
  {
   "cell_type": "code",
   "execution_count": 180,
   "metadata": {},
   "outputs": [
    {
     "data": {
      "text/html": [
       "<div>\n",
       "<style>\n",
       "    .dataframe thead tr:only-child th {\n",
       "        text-align: right;\n",
       "    }\n",
       "\n",
       "    .dataframe thead th {\n",
       "        text-align: left;\n",
       "    }\n",
       "\n",
       "    .dataframe tbody tr th {\n",
       "        vertical-align: top;\n",
       "    }\n",
       "</style>\n",
       "<table border=\"1\" class=\"dataframe\">\n",
       "  <thead>\n",
       "    <tr style=\"text-align: right;\">\n",
       "      <th></th>\n",
       "      <th>city</th>\n",
       "      <th>country</th>\n",
       "      <th>distance_km</th>\n",
       "      <th>distance_mi</th>\n",
       "      <th>id</th>\n",
       "      <th>lat</th>\n",
       "      <th>lon</th>\n",
       "      <th>neighborhood</th>\n",
       "      <th>state</th>\n",
       "    </tr>\n",
       "  </thead>\n",
       "  <tbody>\n",
       "    <tr>\n",
       "      <th>0</th>\n",
       "      <td>Corvallis</td>\n",
       "      <td>US</td>\n",
       "      <td>9</td>\n",
       "      <td>5</td>\n",
       "      <td>KMTCORVA9</td>\n",
       "      <td>46.277557</td>\n",
       "      <td>-114.045059</td>\n",
       "      <td>Hamilton Heights</td>\n",
       "      <td>MT</td>\n",
       "    </tr>\n",
       "    <tr>\n",
       "      <th>1</th>\n",
       "      <td>Corvallis</td>\n",
       "      <td>US</td>\n",
       "      <td>5</td>\n",
       "      <td>3</td>\n",
       "      <td>KMTCORVA10</td>\n",
       "      <td>46.284927</td>\n",
       "      <td>-114.106499</td>\n",
       "      <td>All View Lane</td>\n",
       "      <td>MT</td>\n",
       "    </tr>\n",
       "    <tr>\n",
       "      <th>2</th>\n",
       "      <td>Corvallis</td>\n",
       "      <td>US</td>\n",
       "      <td>6</td>\n",
       "      <td>3</td>\n",
       "      <td>KMTCORVA23</td>\n",
       "      <td>46.273411</td>\n",
       "      <td>-114.086159</td>\n",
       "      <td>corvallis orchard</td>\n",
       "      <td>MT</td>\n",
       "    </tr>\n",
       "  </tbody>\n",
       "</table>\n",
       "</div>"
      ],
      "text/plain": [
       "        city country  distance_km  distance_mi          id        lat  \\\n",
       "0  Corvallis      US            9            5   KMTCORVA9  46.277557   \n",
       "1  Corvallis      US            5            3  KMTCORVA10  46.284927   \n",
       "2  Corvallis      US            6            3  KMTCORVA23  46.273411   \n",
       "\n",
       "          lon       neighborhood state  \n",
       "0 -114.045059   Hamilton Heights    MT  \n",
       "1 -114.106499      All View Lane    MT  \n",
       "2 -114.086159  corvallis orchard    MT  "
      ]
     },
     "execution_count": 180,
     "metadata": {},
     "output_type": "execute_result"
    }
   ],
   "source": [
    "geolookup.head(3)"
   ]
  },
  {
   "cell_type": "code",
   "execution_count": 181,
   "metadata": {},
   "outputs": [],
   "source": [
    "geolookup = geolookup.set_index('id')"
   ]
  },
  {
   "cell_type": "markdown",
   "metadata": {},
   "source": [
    "### Show collected wunderground data"
   ]
  },
  {
   "cell_type": "code",
   "execution_count": 182,
   "metadata": {
    "collapsed": true
   },
   "outputs": [],
   "source": [
    "filename = '../data/wunderground-170701_171101-day_night.csv'\n",
    "wund_weather = pd.read_csv(filename)"
   ]
  },
  {
   "cell_type": "code",
   "execution_count": 183,
   "metadata": {},
   "outputs": [],
   "source": [
    "collected = wund_weather.station_id.unique().tolist()"
   ]
  },
  {
   "cell_type": "code",
   "execution_count": 184,
   "metadata": {},
   "outputs": [
    {
     "name": "stdout",
     "output_type": "stream",
     "text": [
      "['KMTCORVA9', 'KMTCORVA10', 'KMTCORVA12', 'KMTCORVA15', 'KMTFLORE12', 'KMTFLORE4', 'KMTFLORE5', 'KMTFLORE7', 'KMTFLORE2', 'KMTFLORE17', 'KMTFLORE18', 'KMTFLORE13', 'KMTFLORE11', 'KMTFLORE3', 'KMTHAMIL12', 'KMTHAMIL16', 'KMTHAMIL1', 'KMTHAMIL13', 'KMTHAMIL7', 'KMTHAMIL4', 'KMTLEISU2', 'KMTLOLO3', 'KMTLOLO7', 'KMTMISSO44', 'KMTMISSO50', 'KMTMISSO59', 'KMTMISSO41', 'KMTMISSO60', 'KMTMISSO15', 'KMTSTEVE12', 'KMTSTEVE13', 'KMTSTEVE8', 'KMTVICTO9']\n"
     ]
    }
   ],
   "source": [
    "print(collected)"
   ]
  },
  {
   "cell_type": "markdown",
   "metadata": {},
   "source": [
    "### Build date array"
   ]
  },
  {
   "cell_type": "code",
   "execution_count": 185,
   "metadata": {},
   "outputs": [],
   "source": [
    "def daterange(start_date, end_date):\n",
    "    for n in range(int ((end_date - start_date).days)):\n",
    "        yield start_date + timedelta(n)\n",
    "\n",
    "# Initialize date range start at 6/30 to compensate for UTC\n",
    "start_date = date(2017, 6, 30)\n",
    "end_date = date(2017, 11, 1)\n",
    "\n",
    "dates = []\n",
    "\n",
    "for single_date in daterange(start_date, end_date):\n",
    "        dates.append(single_date.strftime(\"%Y-%m-%d\"))"
   ]
  },
  {
   "cell_type": "code",
   "execution_count": 187,
   "metadata": {},
   "outputs": [
    {
     "name": "stdout",
     "output_type": "stream",
     "text": [
      "Start date: ['2017-06-30', '2017-07-01', '2017-07-02', '2017-07-03']\n",
      "End date  : ['2017-10-28', '2017-10-29', '2017-10-30', '2017-10-31']\n"
     ]
    }
   ],
   "source": [
    "print('Start date:', dates[:4])\n",
    "print('End date  :', dates[-4:])"
   ]
  },
  {
   "cell_type": "markdown",
   "metadata": {},
   "source": [
    "### Build API query array"
   ]
  },
  {
   "cell_type": "markdown",
   "metadata": {},
   "source": [
    "### Build station geolocation array"
   ]
  },
  {
   "cell_type": "code",
   "execution_count": 188,
   "metadata": {},
   "outputs": [],
   "source": [
    "# restructure station location dictionary\n",
    "stations_geocode = []\n",
    "for station in collected:\n",
    "    new_element = {'station': [], 'lat': [], 'lon': []}\n",
    "    #print(station + ',' + str(geolookup.loc[station, 'lat']) + \n",
    "    #     ',' + str(geolookup.loc[station, 'lon']))\n",
    "    new_element['station'] = station\n",
    "    new_element['lat'] = str(geolookup.loc[station, 'lat'])\n",
    "    new_element['lon'] = str(geolookup.loc[station, 'lon'])\n",
    "    stations_geocode.append(new_element)"
   ]
  },
  {
   "cell_type": "code",
   "execution_count": 189,
   "metadata": {},
   "outputs": [],
   "source": [
    "# build station location DataFrame\n",
    "stations = pd.DataFrame(stations_geocode)\n",
    "stations = stations[['station', 'lat', 'lon']]"
   ]
  },
  {
   "cell_type": "code",
   "execution_count": 190,
   "metadata": {},
   "outputs": [
    {
     "data": {
      "text/html": [
       "<div>\n",
       "<style>\n",
       "    .dataframe thead tr:only-child th {\n",
       "        text-align: right;\n",
       "    }\n",
       "\n",
       "    .dataframe thead th {\n",
       "        text-align: left;\n",
       "    }\n",
       "\n",
       "    .dataframe tbody tr th {\n",
       "        vertical-align: top;\n",
       "    }\n",
       "</style>\n",
       "<table border=\"1\" class=\"dataframe\">\n",
       "  <thead>\n",
       "    <tr style=\"text-align: right;\">\n",
       "      <th></th>\n",
       "      <th>station</th>\n",
       "      <th>lat</th>\n",
       "      <th>lon</th>\n",
       "    </tr>\n",
       "  </thead>\n",
       "  <tbody>\n",
       "    <tr>\n",
       "      <th>0</th>\n",
       "      <td>KMTCORVA9</td>\n",
       "      <td>46.277557</td>\n",
       "      <td>-114.04505900000001</td>\n",
       "    </tr>\n",
       "    <tr>\n",
       "      <th>1</th>\n",
       "      <td>KMTCORVA10</td>\n",
       "      <td>46.284927</td>\n",
       "      <td>-114.106499</td>\n",
       "    </tr>\n",
       "  </tbody>\n",
       "</table>\n",
       "</div>"
      ],
      "text/plain": [
       "      station        lat                  lon\n",
       "0   KMTCORVA9  46.277557  -114.04505900000001\n",
       "1  KMTCORVA10  46.284927          -114.106499"
      ]
     },
     "execution_count": 190,
     "metadata": {},
     "output_type": "execute_result"
    }
   ],
   "source": [
    "stations.head(2)"
   ]
  },
  {
   "cell_type": "markdown",
   "metadata": {},
   "source": [
    "### Build API query array"
   ]
  },
  {
   "cell_type": "code",
   "execution_count": 191,
   "metadata": {
    "collapsed": true
   },
   "outputs": [],
   "source": [
    "def build_url_df(stations, dates): \n",
    "    url_station = []\n",
    "    # loop through stations in weather_monitoring-locations.csv\n",
    "    for index, row in stations.iterrows():\n",
    "        # loop through date range set above\n",
    "        for date in dates:\n",
    "            row_id = row['station']\n",
    "            lat = row['lat']\n",
    "            lon = row['lon']\n",
    "            row_url = 'https://api.sunrise-sunset.org/json?lat=' + str(lat) + '&lng=' + str(lon) + '&date=' + date + '&formatted=0'\n",
    "            url_station.append(dict({'station_id': row_id, 'url': row_url, 'date': date}))\n",
    "    return(url_station)"
   ]
  },
  {
   "cell_type": "code",
   "execution_count": 192,
   "metadata": {
    "collapsed": true
   },
   "outputs": [],
   "source": [
    "# Generate url array for API calls\n",
    "url_batch = build_url_df(stations, dates)"
   ]
  },
  {
   "cell_type": "code",
   "execution_count": 193,
   "metadata": {
    "scrolled": true
   },
   "outputs": [
    {
     "name": "stdout",
     "output_type": "stream",
     "text": [
      "Start:\n",
      "[{'station_id': 'KMTCORVA9', 'url': 'https://api.sunrise-sunset.org/json?lat=46.277557&lng=-114.04505900000001&date=2017-06-30&formatted=0', 'date': '2017-06-30'}]\n",
      "End:\n",
      "[{'station_id': 'KMTVICTO9', 'url': 'https://api.sunrise-sunset.org/json?lat=46.364567&lng=-114.242287&date=2017-10-31&formatted=0', 'date': '2017-10-31'}]\n"
     ]
    }
   ],
   "source": [
    "print('Start:')\n",
    "print(url_batch[0:1])\n",
    "print('End:')\n",
    "print(url_batch[-1:])"
   ]
  },
  {
   "cell_type": "code",
   "execution_count": 194,
   "metadata": {},
   "outputs": [
    {
     "data": {
      "text/plain": [
       "4092"
      ]
     },
     "execution_count": 194,
     "metadata": {},
     "output_type": "execute_result"
    }
   ],
   "source": [
    "len(url_batch)"
   ]
  },
  {
   "cell_type": "markdown",
   "metadata": {},
   "source": [
    "### Call API and store results"
   ]
  },
  {
   "cell_type": "code",
   "execution_count": null,
   "metadata": {
    "collapsed": true
   },
   "outputs": [],
   "source": [
    "def api_call(url):\n",
    "    f = urlopen(url)\n",
    "    json_string = f.read()\n",
    "    parsed_json = json.loads(json_string)\n",
    "    \n",
    "    return parsed_json['results']"
   ]
  },
  {
   "cell_type": "code",
   "execution_count": null,
   "metadata": {
    "collapsed": true
   },
   "outputs": [],
   "source": [
    "def save_results(df_day, filepath):\n",
    "    if os.path.isfile(filepath):\n",
    "        with open(filepath, 'a') as f:\n",
    "            df_day.to_csv(f, header=False, index=False)\n",
    "    else:\n",
    "        df_day.to_csv(filepath, index=False)"
   ]
  },
  {
   "cell_type": "code",
   "execution_count": null,
   "metadata": {
    "scrolled": false
   },
   "outputs": [],
   "source": [
    "%%timeit\n",
    "successfull_calls = 0\n",
    "\n",
    "# Loop over url_batch to call api and store results\n",
    "for url in url_batch:\n",
    "    # sleep to limit API call speed\n",
    "    #time.sleep(3)\n",
    "    \n",
    "    print(url['station_id'] + '\\n' + url['url'])\n",
    "    result = api_call(url['url'])\n",
    "    \n",
    "    # include station_id\n",
    "    result['station_id'] = url['station_id']\n",
    "    \n",
    "    # include date \n",
    "    result['date'] = url['date']\n",
    "    \n",
    "    df_day = pd.DataFrame.from_dict([result])\n",
    "\n",
    "    # uncomment to save\n",
    "    #save_results(df_day, '../data/sunrise_sunset-wunderground-utc.csv')\n",
    "    \n",
    "    successfull_calls += 1\n",
    "    print('successfull_calls: ' + str(successfull_calls))"
   ]
  }
 ],
 "metadata": {
  "kernelspec": {
   "display_name": "Python 3",
   "language": "python",
   "name": "python3"
  },
  "language_info": {
   "codemirror_mode": {
    "name": "ipython",
    "version": 3
   },
   "file_extension": ".py",
   "mimetype": "text/x-python",
   "name": "python",
   "nbconvert_exporter": "python",
   "pygments_lexer": "ipython3",
   "version": "3.6.3"
  }
 },
 "nbformat": 4,
 "nbformat_minor": 2
}
