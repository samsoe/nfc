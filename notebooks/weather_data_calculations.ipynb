{
 "cells": [
  {
   "cell_type": "markdown",
   "metadata": {},
   "source": [
    "For each 24 hour day (midnight tomidnight) we'd like to know the following:\n",
    "* Temperature and barometric pressure values at sunrise and sunset\n",
    "* Difference between temp and pressure at sunrise and sunset\n",
    "* Maximum, minimum and averages for temp and pressure for both of the time frames of sunset to sunrise and sunrise to sunset\n",
    "* Differences between the max, min and average for both of these time frames."
   ]
  },
  {
   "cell_type": "markdown",
   "metadata": {},
   "source": [
    "\n",
    "# Load libraries"
   ]
  },
  {
   "cell_type": "code",
   "execution_count": 2,
   "metadata": {
    "collapsed": true
   },
   "outputs": [],
   "source": [
    "# pandas for data structure\n",
    "import pandas as pd\n",
    "import datetime"
   ]
  },
  {
   "cell_type": "markdown",
   "metadata": {},
   "source": [
    "# Load data"
   ]
  },
  {
   "cell_type": "markdown",
   "metadata": {},
   "source": [
    "#### Weather Data"
   ]
  },
  {
   "cell_type": "markdown",
   "metadata": {},
   "source": [
    "* data collected from [Wunderground](https://www.wunderground.com/weather/api/)\n",
    "* hosted file: [Google Drive](https://drive.google.com/file/d/1eS0gGM14g7iFulUeqz3XwbKb5OtK9aSI/view)"
   ]
  },
  {
   "cell_type": "code",
   "execution_count": 3,
   "metadata": {
    "collapsed": true
   },
   "outputs": [],
   "source": [
    "# local file\n",
    "filename_wunderground = '../data/wunderground-170701_171101-day_night.csv'"
   ]
  },
  {
   "cell_type": "code",
   "execution_count": 4,
   "metadata": {
    "collapsed": true
   },
   "outputs": [],
   "source": [
    "# load data into dataframes\n",
    "wund = pd.read_csv(filename_wunderground, parse_dates=['utc_date'])"
   ]
  },
  {
   "cell_type": "code",
   "execution_count": 5,
   "metadata": {
    "collapsed": true
   },
   "outputs": [],
   "source": [
    "wund['utc_date'] = wund['utc_date'].dt.tz_localize('utc')"
   ]
  },
  {
   "cell_type": "code",
   "execution_count": 6,
   "metadata": {
    "collapsed": true
   },
   "outputs": [],
   "source": [
    "# localize datetime make local_date column\n",
    "wund['local_date'] = pd.to_datetime(wund.loc[:, 'utc_date']).dt.tz_convert('US/Mountain')"
   ]
  },
  {
   "cell_type": "code",
   "execution_count": 7,
   "metadata": {
    "collapsed": true,
    "scrolled": true
   },
   "outputs": [],
   "source": [
    "wund = wund.set_index('local_date')"
   ]
  },
  {
   "cell_type": "code",
   "execution_count": 8,
   "metadata": {
    "collapsed": true
   },
   "outputs": [],
   "source": [
    "wund = wund[['station_id', 'pressurei', 'pressurem', 'tempi', 'tempm', 'utc_date']]"
   ]
  },
  {
   "cell_type": "code",
   "execution_count": 9,
   "metadata": {
    "collapsed": true
   },
   "outputs": [],
   "source": [
    "wund.columns = ['station_id', 'pressi', 'pressm', 'tempi', 'tempm', 'utc_date']"
   ]
  },
  {
   "cell_type": "code",
   "execution_count": 10,
   "metadata": {},
   "outputs": [
    {
     "name": "stdout",
     "output_type": "stream",
     "text": [
      "<class 'pandas.core.frame.DataFrame'>\n",
      "DatetimeIndex: 727764 entries, 2017-07-01 00:12:00-06:00 to 2017-10-31 23:56:00-06:00\n",
      "Data columns (total 6 columns):\n",
      "station_id    727764 non-null object\n",
      "pressi        727764 non-null float64\n",
      "pressm        727764 non-null float64\n",
      "tempi         727764 non-null float64\n",
      "tempm         727764 non-null float64\n",
      "utc_date      727764 non-null datetime64[ns, UTC]\n",
      "dtypes: datetime64[ns, UTC](1), float64(4), object(1)\n",
      "memory usage: 38.9+ MB\n"
     ]
    }
   ],
   "source": [
    "wund.info()"
   ]
  },
  {
   "cell_type": "code",
   "execution_count": 11,
   "metadata": {},
   "outputs": [
    {
     "data": {
      "text/html": [
       "<div>\n",
       "<style>\n",
       "    .dataframe thead tr:only-child th {\n",
       "        text-align: right;\n",
       "    }\n",
       "\n",
       "    .dataframe thead th {\n",
       "        text-align: left;\n",
       "    }\n",
       "\n",
       "    .dataframe tbody tr th {\n",
       "        vertical-align: top;\n",
       "    }\n",
       "</style>\n",
       "<table border=\"1\" class=\"dataframe\">\n",
       "  <thead>\n",
       "    <tr style=\"text-align: right;\">\n",
       "      <th></th>\n",
       "      <th>station_id</th>\n",
       "      <th>pressi</th>\n",
       "      <th>pressm</th>\n",
       "      <th>tempi</th>\n",
       "      <th>tempm</th>\n",
       "      <th>utc_date</th>\n",
       "    </tr>\n",
       "    <tr>\n",
       "      <th>local_date</th>\n",
       "      <th></th>\n",
       "      <th></th>\n",
       "      <th></th>\n",
       "      <th></th>\n",
       "      <th></th>\n",
       "      <th></th>\n",
       "    </tr>\n",
       "  </thead>\n",
       "  <tbody>\n",
       "    <tr>\n",
       "      <th>2017-10-31 23:51:00-06:00</th>\n",
       "      <td>KMTVICTO9</td>\n",
       "      <td>29.71</td>\n",
       "      <td>1006.0</td>\n",
       "      <td>50.9</td>\n",
       "      <td>10.5</td>\n",
       "      <td>2017-11-01 05:51:00+00:00</td>\n",
       "    </tr>\n",
       "    <tr>\n",
       "      <th>2017-10-31 23:56:00-06:00</th>\n",
       "      <td>KMTVICTO9</td>\n",
       "      <td>29.71</td>\n",
       "      <td>1006.0</td>\n",
       "      <td>50.5</td>\n",
       "      <td>10.3</td>\n",
       "      <td>2017-11-01 05:56:00+00:00</td>\n",
       "    </tr>\n",
       "  </tbody>\n",
       "</table>\n",
       "</div>"
      ],
      "text/plain": [
       "                          station_id  pressi  pressm  tempi  tempm  \\\n",
       "local_date                                                           \n",
       "2017-10-31 23:51:00-06:00  KMTVICTO9   29.71  1006.0   50.9   10.5   \n",
       "2017-10-31 23:56:00-06:00  KMTVICTO9   29.71  1006.0   50.5   10.3   \n",
       "\n",
       "                                           utc_date  \n",
       "local_date                                           \n",
       "2017-10-31 23:51:00-06:00 2017-11-01 05:51:00+00:00  \n",
       "2017-10-31 23:56:00-06:00 2017-11-01 05:56:00+00:00  "
      ]
     },
     "execution_count": 11,
     "metadata": {},
     "output_type": "execute_result"
    }
   ],
   "source": [
    "wund.tail(2)"
   ]
  },
  {
   "cell_type": "markdown",
   "metadata": {},
   "source": [
    "#### Sunset Sunrise Data"
   ]
  },
  {
   "cell_type": "code",
   "execution_count": 12,
   "metadata": {
    "collapsed": true,
    "scrolled": true
   },
   "outputs": [],
   "source": [
    "# Load Sunset Sunrise data\n",
    "sun_filename = '../data/sunrise_sunset-wunderground-utc.csv'\n",
    "sun = pd.read_csv(sun_filename, parse_dates=['sunrise', 'sunset'])"
   ]
  },
  {
   "cell_type": "code",
   "execution_count": 13,
   "metadata": {
    "collapsed": true
   },
   "outputs": [],
   "source": [
    "# Select a subset of loaded DataFrame\n",
    "sun = sun[['station_id', 'sunrise', 'sunset']]"
   ]
  },
  {
   "cell_type": "code",
   "execution_count": 14,
   "metadata": {
    "collapsed": true
   },
   "outputs": [],
   "source": [
    "# Rename columns\n",
    "sun.columns = ['station_id', 'sunrise_utc', 'sunset_utc']"
   ]
  },
  {
   "cell_type": "code",
   "execution_count": 15,
   "metadata": {
    "collapsed": true
   },
   "outputs": [],
   "source": [
    "# Localize datetime to UTC\n",
    "sun['sunrise_utc'] = sun['sunrise_utc'].dt.tz_localize('utc')\n",
    "sun['sunset_utc'] = sun['sunset_utc'].dt.tz_localize('utc')"
   ]
  },
  {
   "cell_type": "code",
   "execution_count": 16,
   "metadata": {
    "collapsed": true
   },
   "outputs": [],
   "source": [
    "# Create US/Mountain datetimes\n",
    "sun['sunrise_local'] = pd.to_datetime(sun.loc[:, 'sunrise_utc']).dt.tz_convert('US/Mountain')\n",
    "sun['sunset_local'] = pd.to_datetime(sun.loc[:, 'sunset_utc']).dt.tz_convert('US/Mountain')"
   ]
  },
  {
   "cell_type": "code",
   "execution_count": 17,
   "metadata": {
    "collapsed": true
   },
   "outputs": [],
   "source": [
    "# Reorder columns\n",
    "sun = sun[['station_id', 'sunrise_local', 'sunset_local', 'sunrise_utc', 'sunset_utc']]"
   ]
  },
  {
   "cell_type": "code",
   "execution_count": 18,
   "metadata": {
    "collapsed": true
   },
   "outputs": [],
   "source": [
    "# Drop rows which start 2017-06-30\n",
    "sun = sun[sun.sunset_local.dt.month != 6]"
   ]
  },
  {
   "cell_type": "code",
   "execution_count": 19,
   "metadata": {},
   "outputs": [
    {
     "data": {
      "text/html": [
       "<div>\n",
       "<style>\n",
       "    .dataframe thead tr:only-child th {\n",
       "        text-align: right;\n",
       "    }\n",
       "\n",
       "    .dataframe thead th {\n",
       "        text-align: left;\n",
       "    }\n",
       "\n",
       "    .dataframe tbody tr th {\n",
       "        vertical-align: top;\n",
       "    }\n",
       "</style>\n",
       "<table border=\"1\" class=\"dataframe\">\n",
       "  <thead>\n",
       "    <tr style=\"text-align: right;\">\n",
       "      <th></th>\n",
       "      <th>station_id</th>\n",
       "      <th>sunrise_local</th>\n",
       "      <th>sunset_local</th>\n",
       "      <th>sunrise_utc</th>\n",
       "      <th>sunset_utc</th>\n",
       "    </tr>\n",
       "  </thead>\n",
       "  <tbody>\n",
       "  </tbody>\n",
       "</table>\n",
       "</div>"
      ],
      "text/plain": [
       "Empty DataFrame\n",
       "Columns: [station_id, sunrise_local, sunset_local, sunrise_utc, sunset_utc]\n",
       "Index: []"
      ]
     },
     "execution_count": 19,
     "metadata": {},
     "output_type": "execute_result"
    }
   ],
   "source": [
    "# Drop rows which start with 2017-11-01 \n",
    "sun[sun.sunset_local.dt.month == 11]"
   ]
  },
  {
   "cell_type": "code",
   "execution_count": 20,
   "metadata": {
    "collapsed": true
   },
   "outputs": [],
   "source": [
    "# Reset index\n",
    "sun = sun.reset_index(drop=True)"
   ]
  },
  {
   "cell_type": "code",
   "execution_count": 21,
   "metadata": {},
   "outputs": [
    {
     "data": {
      "text/html": [
       "<div>\n",
       "<style>\n",
       "    .dataframe thead tr:only-child th {\n",
       "        text-align: right;\n",
       "    }\n",
       "\n",
       "    .dataframe thead th {\n",
       "        text-align: left;\n",
       "    }\n",
       "\n",
       "    .dataframe tbody tr th {\n",
       "        vertical-align: top;\n",
       "    }\n",
       "</style>\n",
       "<table border=\"1\" class=\"dataframe\">\n",
       "  <thead>\n",
       "    <tr style=\"text-align: right;\">\n",
       "      <th></th>\n",
       "      <th>station_id</th>\n",
       "      <th>sunrise_local</th>\n",
       "      <th>sunset_local</th>\n",
       "      <th>sunrise_utc</th>\n",
       "      <th>sunset_utc</th>\n",
       "    </tr>\n",
       "  </thead>\n",
       "  <tbody>\n",
       "    <tr>\n",
       "      <th>0</th>\n",
       "      <td>KMTCORVA9</td>\n",
       "      <td>2017-07-01 05:48:49-06:00</td>\n",
       "      <td>2017-07-01 21:31:41-06:00</td>\n",
       "      <td>2017-07-01 11:48:49+00:00</td>\n",
       "      <td>2017-07-02 03:31:41+00:00</td>\n",
       "    </tr>\n",
       "    <tr>\n",
       "      <th>1</th>\n",
       "      <td>KMTCORVA9</td>\n",
       "      <td>2017-07-02 05:49:27-06:00</td>\n",
       "      <td>2017-07-02 21:31:25-06:00</td>\n",
       "      <td>2017-07-02 11:49:27+00:00</td>\n",
       "      <td>2017-07-03 03:31:25+00:00</td>\n",
       "    </tr>\n",
       "  </tbody>\n",
       "</table>\n",
       "</div>"
      ],
      "text/plain": [
       "  station_id             sunrise_local              sunset_local  \\\n",
       "0  KMTCORVA9 2017-07-01 05:48:49-06:00 2017-07-01 21:31:41-06:00   \n",
       "1  KMTCORVA9 2017-07-02 05:49:27-06:00 2017-07-02 21:31:25-06:00   \n",
       "\n",
       "                sunrise_utc                sunset_utc  \n",
       "0 2017-07-01 11:48:49+00:00 2017-07-02 03:31:41+00:00  \n",
       "1 2017-07-02 11:49:27+00:00 2017-07-03 03:31:25+00:00  "
      ]
     },
     "execution_count": 21,
     "metadata": {},
     "output_type": "execute_result"
    }
   ],
   "source": [
    "sun.head(2)"
   ]
  },
  {
   "cell_type": "markdown",
   "metadata": {},
   "source": [
    "# New DataFrame"
   ]
  },
  {
   "cell_type": "code",
   "execution_count": 22,
   "metadata": {
    "collapsed": true
   },
   "outputs": [],
   "source": [
    "# Column names\n",
    "columns = ['date', 'station_id', 'rise_tempi','set_tempi','rise_pressi','set_pressi']"
   ]
  },
  {
   "cell_type": "code",
   "execution_count": 23,
   "metadata": {
    "collapsed": true
   },
   "outputs": [],
   "source": [
    "calcs = pd.DataFrame(columns=columns)"
   ]
  },
  {
   "cell_type": "markdown",
   "metadata": {},
   "source": [
    "#### Populate with stations and date range"
   ]
  },
  {
   "cell_type": "code",
   "execution_count": 24,
   "metadata": {
    "collapsed": true
   },
   "outputs": [],
   "source": [
    "# Create date range by day\n",
    "start = datetime.date(2017, 7, 1)\n",
    "end = datetime.date(2017, 10, 31)\n",
    "date_index = pd.date_range(start, periods=123, freq='D')"
   ]
  },
  {
   "cell_type": "code",
   "execution_count": 25,
   "metadata": {
    "collapsed": true
   },
   "outputs": [],
   "source": [
    "# Append days and unique station ids\n",
    "for station in sun.station_id.unique():\n",
    "    for date in date_index:\n",
    "        calcs = calcs.append({'station_id': station, 'date': date.strftime('%Y-%m-%d')},\n",
    "                            ignore_index=True)"
   ]
  },
  {
   "cell_type": "code",
   "execution_count": 26,
   "metadata": {
    "collapsed": true
   },
   "outputs": [],
   "source": [
    "calcs = calcs.set_index('date')"
   ]
  },
  {
   "cell_type": "code",
   "execution_count": 27,
   "metadata": {},
   "outputs": [
    {
     "name": "stdout",
     "output_type": "stream",
     "text": [
      "<class 'pandas.core.frame.DataFrame'>\n",
      "Index: 4059 entries, 2017-07-01 to 2017-10-31\n",
      "Data columns (total 5 columns):\n",
      "station_id     4059 non-null object\n",
      "rise_tempi     0 non-null object\n",
      "set_tempi      0 non-null object\n",
      "rise_pressi    0 non-null object\n",
      "set_pressi     0 non-null object\n",
      "dtypes: object(5)\n",
      "memory usage: 190.3+ KB\n"
     ]
    }
   ],
   "source": [
    "calcs.info()"
   ]
  },
  {
   "cell_type": "markdown",
   "metadata": {},
   "source": [
    "# Calculations"
   ]
  },
  {
   "cell_type": "markdown",
   "metadata": {},
   "source": [
    "### Column for values at Sunrise and Sunset\n",
    "* 'values' refers to temperature and pressure data\n",
    "* indexed by day\n",
    "* date will go sunrise to sunset\n",
    "* columns = ['rise_tempi','set_tempi','rise_pressurei','set_pressurei']\n",
    "* index = ['2017-07-01', .... '2017-10-31']"
   ]
  },
  {
   "cell_type": "markdown",
   "metadata": {},
   "source": [
    "* Get closest wund.local_date to sun.sunrise_local\n",
    "* [query the closest datetime index](https://stackoverflow.com/questions/42264848/pandas-dataframe-how-to-query-the-closest-datetime-index)"
   ]
  },
  {
   "cell_type": "code",
   "execution_count": 743,
   "metadata": {
    "collapsed": true
   },
   "outputs": [],
   "source": [
    "def find_closest_weather_sample(station, date):\n",
    "    wund_station = wund[wund.station_id == station].copy()\n",
    "    wund_station = wund_station.groupby(wund_station.index).first()\n",
    "    idx = wund_station.index.get_loc(date, method='nearest')\n",
    "    return wund_station.iloc[idx]"
   ]
  },
  {
   "cell_type": "markdown",
   "metadata": {},
   "source": [
    "### Sunrise/Sunset Temp/Pressure"
   ]
  },
  {
   "cell_type": "code",
   "execution_count": 468,
   "metadata": {},
   "outputs": [
    {
     "data": {
      "text/html": [
       "<div>\n",
       "<style>\n",
       "    .dataframe thead tr:only-child th {\n",
       "        text-align: right;\n",
       "    }\n",
       "\n",
       "    .dataframe thead th {\n",
       "        text-align: left;\n",
       "    }\n",
       "\n",
       "    .dataframe tbody tr th {\n",
       "        vertical-align: top;\n",
       "    }\n",
       "</style>\n",
       "<table border=\"1\" class=\"dataframe\">\n",
       "  <thead>\n",
       "    <tr style=\"text-align: right;\">\n",
       "      <th></th>\n",
       "      <th>station_id</th>\n",
       "      <th>pressi</th>\n",
       "      <th>pressm</th>\n",
       "      <th>tempi</th>\n",
       "      <th>tempm</th>\n",
       "      <th>utc_date</th>\n",
       "    </tr>\n",
       "    <tr>\n",
       "      <th>local_date</th>\n",
       "      <th></th>\n",
       "      <th></th>\n",
       "      <th></th>\n",
       "      <th></th>\n",
       "      <th></th>\n",
       "      <th></th>\n",
       "    </tr>\n",
       "  </thead>\n",
       "  <tbody>\n",
       "    <tr>\n",
       "      <th>2017-07-01 00:12:00-06:00</th>\n",
       "      <td>KMTCORVA9</td>\n",
       "      <td>26.0</td>\n",
       "      <td>880.4</td>\n",
       "      <td>58.8</td>\n",
       "      <td>14.9</td>\n",
       "      <td>2017-07-01 06:12:00+00:00</td>\n",
       "    </tr>\n",
       "  </tbody>\n",
       "</table>\n",
       "</div>"
      ],
      "text/plain": [
       "                          station_id  pressi  pressm  tempi  tempm  \\\n",
       "local_date                                                           \n",
       "2017-07-01 00:12:00-06:00  KMTCORVA9    26.0   880.4   58.8   14.9   \n",
       "\n",
       "                                           utc_date  \n",
       "local_date                                           \n",
       "2017-07-01 00:12:00-06:00 2017-07-01 06:12:00+00:00  "
      ]
     },
     "execution_count": 468,
     "metadata": {},
     "output_type": "execute_result"
    }
   ],
   "source": [
    "wund.head(1)"
   ]
  },
  {
   "cell_type": "code",
   "execution_count": 462,
   "metadata": {},
   "outputs": [
    {
     "data": {
      "text/html": [
       "<div>\n",
       "<style>\n",
       "    .dataframe thead tr:only-child th {\n",
       "        text-align: right;\n",
       "    }\n",
       "\n",
       "    .dataframe thead th {\n",
       "        text-align: left;\n",
       "    }\n",
       "\n",
       "    .dataframe tbody tr th {\n",
       "        vertical-align: top;\n",
       "    }\n",
       "</style>\n",
       "<table border=\"1\" class=\"dataframe\">\n",
       "  <thead>\n",
       "    <tr style=\"text-align: right;\">\n",
       "      <th></th>\n",
       "      <th>station_id</th>\n",
       "      <th>rise_tempi</th>\n",
       "      <th>set_tempi</th>\n",
       "      <th>rise_pressi</th>\n",
       "      <th>set_pressi</th>\n",
       "    </tr>\n",
       "    <tr>\n",
       "      <th>date</th>\n",
       "      <th></th>\n",
       "      <th></th>\n",
       "      <th></th>\n",
       "      <th></th>\n",
       "      <th></th>\n",
       "    </tr>\n",
       "  </thead>\n",
       "  <tbody>\n",
       "    <tr>\n",
       "      <th>2017-07-01</th>\n",
       "      <td>KMTCORVA9</td>\n",
       "      <td>NaN</td>\n",
       "      <td>NaN</td>\n",
       "      <td>NaN</td>\n",
       "      <td>NaN</td>\n",
       "    </tr>\n",
       "  </tbody>\n",
       "</table>\n",
       "</div>"
      ],
      "text/plain": [
       "           station_id rise_tempi set_tempi rise_pressi set_pressi\n",
       "date                                                             \n",
       "2017-07-01  KMTCORVA9        NaN       NaN         NaN        NaN"
      ]
     },
     "execution_count": 462,
     "metadata": {},
     "output_type": "execute_result"
    }
   ],
   "source": [
    "calcs.head(1)"
   ]
  },
  {
   "cell_type": "code",
   "execution_count": 637,
   "metadata": {
    "collapsed": true
   },
   "outputs": [],
   "source": [
    "# Pull date out of index\n",
    "calcs = calcs.reset_index()"
   ]
  },
  {
   "cell_type": "code",
   "execution_count": null,
   "metadata": {
    "collapsed": true,
    "scrolled": false
   },
   "outputs": [],
   "source": [
    "row_counter = 0\n",
    "# Find weather samples for sunrise\n",
    "for row in sun.iterrows():\n",
    "    print(row_counter)\n",
    "    row_counter+=1\n",
    "    station_id = row[1]['station_id']\n",
    "    sunrise_local = row[1]['sunrise_local']\n",
    "    sunset_local = row[1]['sunset_local']\n",
    "\n",
    "    sunrise_Ymd = sunrise_local.strftime('%Y-%m-%d')\n",
    "    sunset_Ymd = sunset_local.strftime('%Y-%m-%d')\n",
    "    \n",
    "    sunrise_sample = find_closest_weather_sample(station_id, sunrise_local)\n",
    "    sunset_sample = find_closest_weather_sample(station_id, sunset_local)\n",
    "    \n",
    "    sample_rise_temp = sunrise_sample.tempi\n",
    "    sample_rise_press = sunrise_sample.pressi\n",
    "    \n",
    "    sample_set_temp = sunset_sample.tempi\n",
    "    sample_set_press = sunset_sample.pressi\n",
    "    \n",
    "    # Insert data into new dataframe \n",
    "    sunrise_mask = (calcs.date == sunrise_Ymd) & (calcs.station_id == station_id)\n",
    "    calcs.rise_tempi.loc[sunrise_mask] = sample_rise_temp\n",
    "    calcs.rise_pressi.loc[sunrise_mask] = sample_rise_press\n",
    "    \n",
    "    sunset_mask = (calcs.date == sunset_Ymd) & (calcs.station_id == station_id)\n",
    "    calcs.set_tempi.loc[sunset_mask] = sample_set_temp\n",
    "    calcs.set_pressi.loc[sunset_mask] = sample_set_press\n",
    "\n",
    "    calcs['sunrise'].loc[(calcs.date == sunset_Ymd) & (calcs.station_id == station_id)] = sunrise_local\n",
    "    calcs['sunset'].loc[(calcs.date == sunset_Ymd) & (calcs.station_id == station_id)] = sunset_local\n",
    "'''\n",
    "    print(sunrise_local.strftime('%Y-%m-%d'))\n",
    "    print('**********************************************')\n",
    "    print('*', station_id)\n",
    "    print('Sunrise:', sunrise_local, '\\n')\n",
    "\n",
    "    print('* Nearest Sunrise Weather Sample Datetime:')\n",
    "    print(sunrise_sample)\n",
    "    print('rise_temp :', sample_rise_temp)\n",
    "    print('rise_press:', sample_rise_press)\n",
    "    \n",
    "    print('\\n* Nearest Sunset Weather Sample Datetime:')\n",
    "    print(sunset_sample)\n",
    "    print('set_temp  :', sample_set_temp)\n",
    "    print('set_press :', sample_set_press)\n",
    "\n",
    "    print('\\n* Calcs DataFrame Selected Row')\n",
    "    print(calcs.loc[(calcs.date == sunrise_local.strftime('%Y-%m-%d')) & \n",
    "                     (calcs.station_id == station_id)])\n",
    "    \n",
    "    print('**********************************************')\n",
    "    print('\\n')\n",
    "'''"
   ]
  },
  {
   "cell_type": "code",
   "execution_count": 769,
   "metadata": {},
   "outputs": [
    {
     "data": {
      "text/html": [
       "<div>\n",
       "<style>\n",
       "    .dataframe thead tr:only-child th {\n",
       "        text-align: right;\n",
       "    }\n",
       "\n",
       "    .dataframe thead th {\n",
       "        text-align: left;\n",
       "    }\n",
       "\n",
       "    .dataframe tbody tr th {\n",
       "        vertical-align: top;\n",
       "    }\n",
       "</style>\n",
       "<table border=\"1\" class=\"dataframe\">\n",
       "  <thead>\n",
       "    <tr style=\"text-align: right;\">\n",
       "      <th></th>\n",
       "      <th>date</th>\n",
       "      <th>station_id</th>\n",
       "      <th>rise_tempi</th>\n",
       "      <th>set_tempi</th>\n",
       "      <th>rise_pressi</th>\n",
       "      <th>set_pressi</th>\n",
       "    </tr>\n",
       "  </thead>\n",
       "  <tbody>\n",
       "    <tr>\n",
       "      <th>0</th>\n",
       "      <td>2017-07-01</td>\n",
       "      <td>KMTCORVA9</td>\n",
       "      <td>51.1</td>\n",
       "      <td>71.6</td>\n",
       "      <td>26</td>\n",
       "      <td>25.94</td>\n",
       "    </tr>\n",
       "  </tbody>\n",
       "</table>\n",
       "</div>"
      ],
      "text/plain": [
       "         date station_id rise_tempi set_tempi rise_pressi set_pressi\n",
       "0  2017-07-01  KMTCORVA9       51.1      71.6          26      25.94"
      ]
     },
     "execution_count": 769,
     "metadata": {},
     "output_type": "execute_result"
    }
   ],
   "source": [
    "calcs[(calcs.date == '2017-07-01') & (calcs.station_id == 'KMTCORVA9')]"
   ]
  },
  {
   "cell_type": "code",
   "execution_count": 783,
   "metadata": {},
   "outputs": [
    {
     "name": "stdout",
     "output_type": "stream",
     "text": [
      "<class 'pandas.core.frame.DataFrame'>\n",
      "RangeIndex: 4059 entries, 0 to 4058\n",
      "Data columns (total 8 columns):\n",
      "date           4059 non-null object\n",
      "station_id     4059 non-null object\n",
      "rise_tempi     4059 non-null object\n",
      "set_tempi      4059 non-null object\n",
      "rise_pressi    4059 non-null object\n",
      "set_pressi     4059 non-null object\n",
      "sunrise        4059 non-null object\n",
      "sunset         4059 non-null object\n",
      "dtypes: object(8)\n",
      "memory usage: 253.8+ KB\n"
     ]
    }
   ],
   "source": [
    "calcs.info()"
   ]
  },
  {
   "cell_type": "code",
   "execution_count": 800,
   "metadata": {},
   "outputs": [
    {
     "data": {
      "text/html": [
       "<div>\n",
       "<style>\n",
       "    .dataframe thead tr:only-child th {\n",
       "        text-align: right;\n",
       "    }\n",
       "\n",
       "    .dataframe thead th {\n",
       "        text-align: left;\n",
       "    }\n",
       "\n",
       "    .dataframe tbody tr th {\n",
       "        vertical-align: top;\n",
       "    }\n",
       "</style>\n",
       "<table border=\"1\" class=\"dataframe\">\n",
       "  <thead>\n",
       "    <tr style=\"text-align: right;\">\n",
       "      <th></th>\n",
       "      <th>date</th>\n",
       "      <th>station_id</th>\n",
       "      <th>rise_tempi</th>\n",
       "      <th>set_tempi</th>\n",
       "      <th>rise_pressi</th>\n",
       "      <th>set_pressi</th>\n",
       "      <th>sunrise</th>\n",
       "      <th>sunset</th>\n",
       "    </tr>\n",
       "  </thead>\n",
       "  <tbody>\n",
       "    <tr>\n",
       "      <th>0</th>\n",
       "      <td>2017-07-01</td>\n",
       "      <td>KMTCORVA9</td>\n",
       "      <td>51.1</td>\n",
       "      <td>71.6</td>\n",
       "      <td>26</td>\n",
       "      <td>25.94</td>\n",
       "      <td>2017-07-01 05:48:49-06:00</td>\n",
       "      <td>2017-07-01 21:31:41-06:00</td>\n",
       "    </tr>\n",
       "    <tr>\n",
       "      <th>1</th>\n",
       "      <td>2017-07-02</td>\n",
       "      <td>KMTCORVA9</td>\n",
       "      <td>57.2</td>\n",
       "      <td>90.1</td>\n",
       "      <td>25.99</td>\n",
       "      <td>25.93</td>\n",
       "      <td>2017-07-02 05:49:27-06:00</td>\n",
       "      <td>2017-07-02 21:31:25-06:00</td>\n",
       "    </tr>\n",
       "  </tbody>\n",
       "</table>\n",
       "</div>"
      ],
      "text/plain": [
       "         date station_id rise_tempi set_tempi rise_pressi set_pressi  \\\n",
       "0  2017-07-01  KMTCORVA9       51.1      71.6          26      25.94   \n",
       "1  2017-07-02  KMTCORVA9       57.2      90.1       25.99      25.93   \n",
       "\n",
       "                     sunrise                     sunset  \n",
       "0  2017-07-01 05:48:49-06:00  2017-07-01 21:31:41-06:00  \n",
       "1  2017-07-02 05:49:27-06:00  2017-07-02 21:31:25-06:00  "
      ]
     },
     "execution_count": 800,
     "metadata": {},
     "output_type": "execute_result"
    }
   ],
   "source": [
    "calcs.head(2)"
   ]
  },
  {
   "cell_type": "code",
   "execution_count": 776,
   "metadata": {
    "collapsed": true
   },
   "outputs": [],
   "source": [
    "filename = '../data/2017-sunrise_set-temp_pressure-190124_002.csv'\n",
    "calcs.to_csv(filename, index=False)"
   ]
  },
  {
   "cell_type": "markdown",
   "metadata": {},
   "source": [
    "### Difference sunrise - sunset, sunset - sunrise values"
   ]
  },
  {
   "cell_type": "code",
   "execution_count": 993,
   "metadata": {},
   "outputs": [
    {
     "data": {
      "text/html": [
       "<div>\n",
       "<style>\n",
       "    .dataframe thead tr:only-child th {\n",
       "        text-align: right;\n",
       "    }\n",
       "\n",
       "    .dataframe thead th {\n",
       "        text-align: left;\n",
       "    }\n",
       "\n",
       "    .dataframe tbody tr th {\n",
       "        vertical-align: top;\n",
       "    }\n",
       "</style>\n",
       "<table border=\"1\" class=\"dataframe\">\n",
       "  <thead>\n",
       "    <tr style=\"text-align: right;\">\n",
       "      <th></th>\n",
       "      <th>date</th>\n",
       "      <th>station_id</th>\n",
       "      <th>rise_tempi</th>\n",
       "      <th>set_tempi</th>\n",
       "      <th>rise_pressi</th>\n",
       "      <th>set_pressi</th>\n",
       "      <th>sunrise</th>\n",
       "      <th>sunset</th>\n",
       "      <th>rise_set_diff_tempi</th>\n",
       "      <th>rise_set_diff_pressi</th>\n",
       "      <th>set_rise_diff_tempi</th>\n",
       "      <th>set_rise_diff_pressi</th>\n",
       "      <th>rise_set_max_tempi</th>\n",
       "      <th>rise_set_max_pressi</th>\n",
       "      <th>rise_set_min_tempi</th>\n",
       "      <th>rise_set_min_pressi</th>\n",
       "      <th>rise_set_mean_tempi</th>\n",
       "      <th>rise_set_mean_pressi</th>\n",
       "    </tr>\n",
       "  </thead>\n",
       "  <tbody>\n",
       "    <tr>\n",
       "      <th>4057</th>\n",
       "      <td>2017-10-30</td>\n",
       "      <td>KMTVICTO9</td>\n",
       "      <td>26.8</td>\n",
       "      <td>33.1</td>\n",
       "      <td>28.38</td>\n",
       "      <td>28.23</td>\n",
       "      <td>2017-10-30 08:16:52-06:00</td>\n",
       "      <td>2017-10-30 18:24:17-06:00</td>\n",
       "      <td>6.3</td>\n",
       "      <td>-0.15</td>\n",
       "      <td>-7.2</td>\n",
       "      <td>-0.11</td>\n",
       "      <td>50.0</td>\n",
       "      <td>28.33</td>\n",
       "      <td>37.9</td>\n",
       "      <td>28.15</td>\n",
       "      <td>43.75614</td>\n",
       "      <td>28.230789</td>\n",
       "    </tr>\n",
       "    <tr>\n",
       "      <th>4058</th>\n",
       "      <td>2017-10-31</td>\n",
       "      <td>KMTVICTO9</td>\n",
       "      <td>25.9</td>\n",
       "      <td>47.3</td>\n",
       "      <td>28.12</td>\n",
       "      <td>27.88</td>\n",
       "      <td>2017-10-31 08:18:19-06:00</td>\n",
       "      <td>2017-10-31 18:22:47-06:00</td>\n",
       "      <td>NaN</td>\n",
       "      <td>NaN</td>\n",
       "      <td>NaN</td>\n",
       "      <td>NaN</td>\n",
       "      <td>40.1</td>\n",
       "      <td>28.39</td>\n",
       "      <td>26.4</td>\n",
       "      <td>28.23</td>\n",
       "      <td>35.02973</td>\n",
       "      <td>28.316126</td>\n",
       "    </tr>\n",
       "  </tbody>\n",
       "</table>\n",
       "</div>"
      ],
      "text/plain": [
       "            date station_id rise_tempi set_tempi rise_pressi set_pressi  \\\n",
       "4057  2017-10-30  KMTVICTO9       26.8      33.1       28.38      28.23   \n",
       "4058  2017-10-31  KMTVICTO9       25.9      47.3       28.12      27.88   \n",
       "\n",
       "                        sunrise                     sunset  \\\n",
       "4057  2017-10-30 08:16:52-06:00  2017-10-30 18:24:17-06:00   \n",
       "4058  2017-10-31 08:18:19-06:00  2017-10-31 18:22:47-06:00   \n",
       "\n",
       "      rise_set_diff_tempi  rise_set_diff_pressi  set_rise_diff_tempi  \\\n",
       "4057                  6.3                 -0.15                 -7.2   \n",
       "4058                  NaN                   NaN                  NaN   \n",
       "\n",
       "      set_rise_diff_pressi  rise_set_max_tempi  rise_set_max_pressi  \\\n",
       "4057                 -0.11                50.0                28.33   \n",
       "4058                   NaN                40.1                28.39   \n",
       "\n",
       "      rise_set_min_tempi  rise_set_min_pressi  rise_set_mean_tempi  \\\n",
       "4057                37.9                28.15             43.75614   \n",
       "4058                26.4                28.23             35.02973   \n",
       "\n",
       "      rise_set_mean_pressi  \n",
       "4057             28.230789  \n",
       "4058             28.316126  "
      ]
     },
     "execution_count": 993,
     "metadata": {},
     "output_type": "execute_result"
    }
   ],
   "source": [
    "calcs.tail(2)"
   ]
  },
  {
   "cell_type": "code",
   "execution_count": 1020,
   "metadata": {},
   "outputs": [
    {
     "name": "stdout",
     "output_type": "stream",
     "text": [
      "date                                   2017-10-30\n",
      "station_id                              KMTVICTO9\n",
      "rise_tempi                                   26.8\n",
      "set_tempi                                    33.1\n",
      "rise_pressi                                 28.38\n",
      "set_pressi                                  28.23\n",
      "sunrise                 2017-10-30 08:16:52-06:00\n",
      "sunset                  2017-10-30 18:24:17-06:00\n",
      "rise_set_diff_tempi                           6.3\n",
      "rise_set_diff_pressi                        -0.15\n",
      "set_rise_diff_tempi                          -7.2\n",
      "set_rise_diff_pressi                        -0.11\n",
      "rise_set_max_tempi                           53.6\n",
      "rise_set_max_pressi                         28.11\n",
      "rise_set_min_tempi                           26.4\n",
      "rise_set_min_pressi                         27.89\n",
      "rise_set_mean_tempi                       43.3186\n",
      "rise_set_mean_pressi                      28.0155\n",
      "Name: 4057, dtype: object \n",
      "\n",
      "**** Sunrise to Sunset ****\n",
      "KMTVICTO9 2017-10-30\n",
      "temp diff : 6.300000000000001\n",
      "press diff: -0.14999999999999858\n",
      "\n",
      "\n",
      "date                                   2017-10-31\n",
      "station_id                              KMTVICTO9\n",
      "rise_tempi                                   25.9\n",
      "set_tempi                                    47.3\n",
      "rise_pressi                                 28.12\n",
      "set_pressi                                  27.88\n",
      "sunrise                 2017-10-31 08:18:19-06:00\n",
      "sunset                  2017-10-31 18:22:47-06:00\n",
      "rise_set_diff_tempi                           NaN\n",
      "rise_set_diff_pressi                          NaN\n",
      "set_rise_diff_tempi                           NaN\n",
      "set_rise_diff_pressi                          NaN\n",
      "rise_set_max_tempi                           40.1\n",
      "rise_set_max_pressi                         28.39\n",
      "rise_set_min_tempi                           26.4\n",
      "rise_set_min_pressi                         28.23\n",
      "rise_set_mean_tempi                       35.0297\n",
      "rise_set_mean_pressi                      28.3161\n",
      "Name: 4058, dtype: object\n",
      "date: 2017-10-30\n",
      "\n",
      "**** Sunset to Sunrise ****\n",
      "temp diff : -7.200000000000003\n",
      "press diff: -0.10999999999999943\n"
     ]
    }
   ],
   "source": [
    "# remember to set -1 to account for no 11/1 value\n",
    "for row in calcs[-2:-1].iterrows():\n",
    "    # sunrise to sunset\n",
    "    station_id = row[1].station_id\n",
    "    \n",
    "    # set variables\n",
    "    rise_set_diff_tempi = row[1].set_tempi - row[1].rise_tempi\n",
    "    rise_set_diff_pressi = row[1].set_pressi - row[1].rise_pressi\n",
    "    set_rise_diff_tempi = calcs.loc[row[0]+1].rise_tempi - row[1].set_tempi\n",
    "    set_rise_diff_pressi = calcs.loc[row[0]+1].rise_pressi - row[1].set_pressi\n",
    "    \n",
    "    # store values in DataFrame\n",
    "#   calcs.loc[row[0], 'rise_set_diff_tempi'] = rise_set_diff_tempi\n",
    "#   calcs.loc[row[0], 'rise_set_diff_pressi'] = rise_set_diff_pressi\n",
    "#   calcs.loc[row[0], 'set_rise_diff_tempi'] = set_rise_diff_tempi\n",
    "#   calcs.loc[row[0], 'set_rise_diff_pressi'] = set_rise_diff_pressi\n",
    "    \n",
    "\n",
    "    # sunrise to sunset\n",
    "    print(row[1], '\\n')\n",
    "    print('**** Sunrise to Sunset ****')\n",
    "    print(station_id, row[1].date)\n",
    "    print('temp diff :', rise_set_diff_tempi)\n",
    "    print('press diff:', rise_set_diff_pressi)\n",
    "    \n",
    "    # sunset to sunrise\n",
    "    print('\\n')\n",
    "    print(calcs.loc[row[0] + 1])\n",
    "    print('date:', row[1].date)\n",
    "    print('\\n**** Sunset to Sunrise ****')\n",
    "    print('temp diff :', set_rise_diff_tempi)\n",
    "    print('press diff:', set_rise_diff_pressi)\n"
   ]
  },
  {
   "cell_type": "code",
   "execution_count": 943,
   "metadata": {
    "collapsed": true
   },
   "outputs": [],
   "source": [
    "filename = '../data/2017-sunrise_set-temp_pressure-190124_003.csv'\n",
    "calcs.to_csv(filename, index=False)"
   ]
  },
  {
   "cell_type": "markdown",
   "metadata": {},
   "source": [
    "### Max, min, ave : sunrise to sunset"
   ]
  },
  {
   "cell_type": "code",
   "execution_count": 1005,
   "metadata": {},
   "outputs": [
    {
     "name": "stdout",
     "output_type": "stream",
     "text": [
      "<class 'pandas.core.frame.DataFrame'>\n",
      "RangeIndex: 4059 entries, 0 to 4058\n",
      "Data columns (total 18 columns):\n",
      "date                    4059 non-null object\n",
      "station_id              4059 non-null object\n",
      "rise_tempi              4059 non-null object\n",
      "set_tempi               4059 non-null object\n",
      "rise_pressi             4059 non-null object\n",
      "set_pressi              4059 non-null object\n",
      "sunrise                 4059 non-null object\n",
      "sunset                  4059 non-null object\n",
      "rise_set_diff_tempi     4058 non-null float64\n",
      "rise_set_diff_pressi    4058 non-null float64\n",
      "set_rise_diff_tempi     4058 non-null float64\n",
      "set_rise_diff_pressi    4058 non-null float64\n",
      "rise_set_max_tempi      3723 non-null float64\n",
      "rise_set_max_pressi     3723 non-null float64\n",
      "rise_set_min_tempi      3723 non-null float64\n",
      "rise_set_min_pressi     3723 non-null float64\n",
      "rise_set_mean_tempi     3723 non-null float64\n",
      "rise_set_mean_pressi    3723 non-null float64\n",
      "dtypes: float64(10), object(8)\n",
      "memory usage: 570.9+ KB\n"
     ]
    }
   ],
   "source": [
    "calcs.info()"
   ]
  },
  {
   "cell_type": "code",
   "execution_count": null,
   "metadata": {
    "collapsed": true
   },
   "outputs": [],
   "source": [
    "for row in calcs[12:16].iterrows(): \n",
    "    # set variables\n",
    "    station_id = row[1].station_id\n",
    "    sunrise_dt = row[1].sunrise\n",
    "    sunset_dt = row[1].sunset\n",
    "    \n",
    "    # select date range\n",
    "    mask = (wund.index > sunrise_dt) & (wund.index <= sunset_dt) & (wund.station_id == station_id)\n",
    "\n",
    "    ## max\n",
    "    rise_set_max_tempi = wund[mask].tempi.max()\n",
    "    rise_set_max_pressi = wund[mask].pressi.max() \n",
    "    \n",
    "    ## min\n",
    "    rise_set_min_tempi = wund[mask].tempi.min()\n",
    "    rise_set_min_pressi = wund[mask].pressi.min()\n",
    "    \n",
    "    ## mean\n",
    "    rise_set_mean_tempi = wund[mask].tempi.mean()\n",
    "    rise_set_mean_pressi = wund[mask].pressi.mean()\n",
    "    \n",
    "    # store values in DataFrame\n",
    "#    calcs.loc[row[0], 'rise_set_max_tempi'] = rise_set_max_tempi\n",
    "#    calcs.loc[row[0], 'rise_set_max_pressi'] = rise_set_max_pressi\n",
    "#    calcs.loc[row[0], 'rise_set_min_tempi'] = rise_set_min_tempi\n",
    "#    calcs.loc[row[0], 'rise_set_min_pressi'] = rise_set_min_pressi\n",
    "#    calcs.loc[row[0], 'rise_set_mean_tempi'] = rise_set_mean_tempi\n",
    "#    calcs.loc[row[0], 'rise_set_mean_pressi'] = rise_set_mean_pressi\n",
    "\n",
    "    print(row[0])\n",
    "    print(row[1].station_id)\n",
    "    print(row[1].date)\n",
    "    print(row[1].sunrise, row[1].sunset)\n",
    "    print('\\n', row[1], '\\n')\n",
    "    print('Max temp: ', rise_set_max_tempi)\n",
    "    print('Max press:', rise_set_max_pressi)\n",
    "    print('Min temp: ', rise_set_min_tempi)\n",
    "    print('Min press:', rise_set_min_pressi)\n",
    "    print('Mean temp :', rise_set_mean_tempi)\n",
    "    print('Mean press:', rise_set_mean_pressi)\n",
    "    print('\\n', wund[mask].describe(), '\\n')\n"
   ]
  },
  {
   "cell_type": "markdown",
   "metadata": {},
   "source": [
    "### Max, min, ave : sunset to sunrise"
   ]
  },
  {
   "cell_type": "code",
   "execution_count": 35,
   "metadata": {},
   "outputs": [],
   "source": [
    "# 190201 run again partially to fix set_rise_mean_pressi error\n",
    "filename = '../data/2017-sunrise_set-temp_pressure-190131_006.csv'\n",
    "calcs = pd.read_csv(filename)"
   ]
  },
  {
   "cell_type": "code",
   "execution_count": 61,
   "metadata": {},
   "outputs": [
    {
     "data": {
      "text/html": [
       "<div>\n",
       "<style>\n",
       "    .dataframe thead tr:only-child th {\n",
       "        text-align: right;\n",
       "    }\n",
       "\n",
       "    .dataframe thead th {\n",
       "        text-align: left;\n",
       "    }\n",
       "\n",
       "    .dataframe tbody tr th {\n",
       "        vertical-align: top;\n",
       "    }\n",
       "</style>\n",
       "<table border=\"1\" class=\"dataframe\">\n",
       "  <thead>\n",
       "    <tr style=\"text-align: right;\">\n",
       "      <th></th>\n",
       "      <th>date</th>\n",
       "      <th>station_id</th>\n",
       "      <th>rise_tempi</th>\n",
       "      <th>set_tempi</th>\n",
       "      <th>rise_pressi</th>\n",
       "      <th>set_pressi</th>\n",
       "      <th>sunrise</th>\n",
       "      <th>sunset</th>\n",
       "      <th>rise_set_diff_tempi</th>\n",
       "      <th>rise_set_diff_pressi</th>\n",
       "      <th>...</th>\n",
       "      <th>set_rise_min_tempi</th>\n",
       "      <th>set_rise_min_pressi</th>\n",
       "      <th>set_rise_mean_tempi</th>\n",
       "      <th>set_rise_mean_pressi</th>\n",
       "      <th>rise_set_set_rise_max_diff_tempi</th>\n",
       "      <th>rise_set_set_rise_max_diff_pressi</th>\n",
       "      <th>rise_set_set_rise_min_diff_tempi</th>\n",
       "      <th>rise_set_set_rise_min_diff_pressi</th>\n",
       "      <th>rise_set_set_rise_mean_diff_tempi</th>\n",
       "      <th>rise_set_set_rise_mean_diff_pressi</th>\n",
       "    </tr>\n",
       "  </thead>\n",
       "  <tbody>\n",
       "    <tr>\n",
       "      <th>0</th>\n",
       "      <td>2017-07-01</td>\n",
       "      <td>KMTCORVA9</td>\n",
       "      <td>51.1</td>\n",
       "      <td>71.6</td>\n",
       "      <td>26.00</td>\n",
       "      <td>25.94</td>\n",
       "      <td>2017-07-01 05:48:49-06:00</td>\n",
       "      <td>2017-07-01 21:31:41-06:00</td>\n",
       "      <td>20.5</td>\n",
       "      <td>-0.06</td>\n",
       "      <td>...</td>\n",
       "      <td>55.6</td>\n",
       "      <td>25.94</td>\n",
       "      <td>62.315625</td>\n",
       "      <td>25.95875</td>\n",
       "      <td>19.1</td>\n",
       "      <td>0.03</td>\n",
       "      <td>0.5</td>\n",
       "      <td>-0.01</td>\n",
       "      <td>13.312580</td>\n",
       "      <td>0.031506</td>\n",
       "    </tr>\n",
       "    <tr>\n",
       "      <th>1</th>\n",
       "      <td>2017-07-02</td>\n",
       "      <td>KMTCORVA9</td>\n",
       "      <td>57.2</td>\n",
       "      <td>90.1</td>\n",
       "      <td>25.99</td>\n",
       "      <td>25.93</td>\n",
       "      <td>2017-07-02 05:49:27-06:00</td>\n",
       "      <td>2017-07-02 21:31:25-06:00</td>\n",
       "      <td>32.9</td>\n",
       "      <td>-0.06</td>\n",
       "      <td>...</td>\n",
       "      <td>NaN</td>\n",
       "      <td>NaN</td>\n",
       "      <td>NaN</td>\n",
       "      <td>NaN</td>\n",
       "      <td>NaN</td>\n",
       "      <td>NaN</td>\n",
       "      <td>NaN</td>\n",
       "      <td>NaN</td>\n",
       "      <td>NaN</td>\n",
       "      <td>NaN</td>\n",
       "    </tr>\n",
       "    <tr>\n",
       "      <th>2</th>\n",
       "      <td>2017-07-03</td>\n",
       "      <td>KMTCORVA9</td>\n",
       "      <td>83.5</td>\n",
       "      <td>70.0</td>\n",
       "      <td>26.00</td>\n",
       "      <td>25.99</td>\n",
       "      <td>2017-07-03 05:50:07-06:00</td>\n",
       "      <td>2017-07-03 21:31:07-06:00</td>\n",
       "      <td>-13.5</td>\n",
       "      <td>-0.01</td>\n",
       "      <td>...</td>\n",
       "      <td>49.6</td>\n",
       "      <td>26.00</td>\n",
       "      <td>58.112500</td>\n",
       "      <td>26.04500</td>\n",
       "      <td>23.7</td>\n",
       "      <td>-0.06</td>\n",
       "      <td>6.5</td>\n",
       "      <td>-0.07</td>\n",
       "      <td>17.515705</td>\n",
       "      <td>-0.054744</td>\n",
       "    </tr>\n",
       "  </tbody>\n",
       "</table>\n",
       "<p>3 rows × 30 columns</p>\n",
       "</div>"
      ],
      "text/plain": [
       "         date station_id  rise_tempi  set_tempi  rise_pressi  set_pressi  \\\n",
       "0  2017-07-01  KMTCORVA9        51.1       71.6        26.00       25.94   \n",
       "1  2017-07-02  KMTCORVA9        57.2       90.1        25.99       25.93   \n",
       "2  2017-07-03  KMTCORVA9        83.5       70.0        26.00       25.99   \n",
       "\n",
       "                     sunrise                     sunset  rise_set_diff_tempi  \\\n",
       "0  2017-07-01 05:48:49-06:00  2017-07-01 21:31:41-06:00                 20.5   \n",
       "1  2017-07-02 05:49:27-06:00  2017-07-02 21:31:25-06:00                 32.9   \n",
       "2  2017-07-03 05:50:07-06:00  2017-07-03 21:31:07-06:00                -13.5   \n",
       "\n",
       "   rise_set_diff_pressi                 ...                  \\\n",
       "0                 -0.06                 ...                   \n",
       "1                 -0.06                 ...                   \n",
       "2                 -0.01                 ...                   \n",
       "\n",
       "   set_rise_min_tempi  set_rise_min_pressi  set_rise_mean_tempi  \\\n",
       "0                55.6                25.94            62.315625   \n",
       "1                 NaN                  NaN                  NaN   \n",
       "2                49.6                26.00            58.112500   \n",
       "\n",
       "   set_rise_mean_pressi  rise_set_set_rise_max_diff_tempi  \\\n",
       "0              25.95875                              19.1   \n",
       "1                   NaN                               NaN   \n",
       "2              26.04500                              23.7   \n",
       "\n",
       "   rise_set_set_rise_max_diff_pressi  rise_set_set_rise_min_diff_tempi  \\\n",
       "0                               0.03                               0.5   \n",
       "1                                NaN                               NaN   \n",
       "2                              -0.06                               6.5   \n",
       "\n",
       "   rise_set_set_rise_min_diff_pressi  rise_set_set_rise_mean_diff_tempi  \\\n",
       "0                              -0.01                          13.312580   \n",
       "1                                NaN                                NaN   \n",
       "2                              -0.07                          17.515705   \n",
       "\n",
       "   rise_set_set_rise_mean_diff_pressi  \n",
       "0                            0.031506  \n",
       "1                                 NaN  \n",
       "2                           -0.054744  \n",
       "\n",
       "[3 rows x 30 columns]"
      ]
     },
     "execution_count": 61,
     "metadata": {},
     "output_type": "execute_result"
    }
   ],
   "source": [
    "calcs.loc[0:2]"
   ]
  },
  {
   "cell_type": "code",
   "execution_count": 60,
   "metadata": {},
   "outputs": [
    {
     "data": {
      "text/html": [
       "<div>\n",
       "<style>\n",
       "    .dataframe thead tr:only-child th {\n",
       "        text-align: right;\n",
       "    }\n",
       "\n",
       "    .dataframe thead th {\n",
       "        text-align: left;\n",
       "    }\n",
       "\n",
       "    .dataframe tbody tr th {\n",
       "        vertical-align: top;\n",
       "    }\n",
       "</style>\n",
       "<table border=\"1\" class=\"dataframe\">\n",
       "  <thead>\n",
       "    <tr style=\"text-align: right;\">\n",
       "      <th></th>\n",
       "      <th>date</th>\n",
       "      <th>station_id</th>\n",
       "      <th>rise_tempi</th>\n",
       "      <th>set_tempi</th>\n",
       "      <th>rise_pressi</th>\n",
       "      <th>set_pressi</th>\n",
       "      <th>sunrise</th>\n",
       "      <th>sunset</th>\n",
       "      <th>rise_set_diff_tempi</th>\n",
       "      <th>rise_set_diff_pressi</th>\n",
       "      <th>...</th>\n",
       "      <th>set_rise_min_tempi</th>\n",
       "      <th>set_rise_min_pressi</th>\n",
       "      <th>set_rise_mean_tempi</th>\n",
       "      <th>set_rise_mean_pressi</th>\n",
       "      <th>rise_set_set_rise_max_diff_tempi</th>\n",
       "      <th>rise_set_set_rise_max_diff_pressi</th>\n",
       "      <th>rise_set_set_rise_min_diff_tempi</th>\n",
       "      <th>rise_set_set_rise_min_diff_pressi</th>\n",
       "      <th>rise_set_set_rise_mean_diff_tempi</th>\n",
       "      <th>rise_set_set_rise_mean_diff_pressi</th>\n",
       "    </tr>\n",
       "  </thead>\n",
       "  <tbody>\n",
       "    <tr>\n",
       "      <th>3933</th>\n",
       "      <td>2017-10-29</td>\n",
       "      <td>KMTVICTO9</td>\n",
       "      <td>38.1</td>\n",
       "      <td>39.6</td>\n",
       "      <td>28.15</td>\n",
       "      <td>28.33</td>\n",
       "      <td>2017-10-29 08:15:26-06:00</td>\n",
       "      <td>2017-10-29 18:25:49-06:00</td>\n",
       "      <td>1.5</td>\n",
       "      <td>0.18</td>\n",
       "      <td>...</td>\n",
       "      <td>26.8</td>\n",
       "      <td>28.33</td>\n",
       "      <td>33.200637</td>\n",
       "      <td>28.393949</td>\n",
       "      <td>12.0</td>\n",
       "      <td>-0.05</td>\n",
       "      <td>7.2</td>\n",
       "      <td>-0.16</td>\n",
       "      <td>11.703749</td>\n",
       "      <td>-0.104037</td>\n",
       "    </tr>\n",
       "    <tr>\n",
       "      <th>3934</th>\n",
       "      <td>2017-10-30</td>\n",
       "      <td>KMTVICTO9</td>\n",
       "      <td>26.8</td>\n",
       "      <td>33.1</td>\n",
       "      <td>28.38</td>\n",
       "      <td>28.23</td>\n",
       "      <td>2017-10-30 08:16:52-06:00</td>\n",
       "      <td>2017-10-30 18:24:17-06:00</td>\n",
       "      <td>6.3</td>\n",
       "      <td>-0.15</td>\n",
       "      <td>...</td>\n",
       "      <td>23.5</td>\n",
       "      <td>28.12</td>\n",
       "      <td>26.847403</td>\n",
       "      <td>28.195714</td>\n",
       "      <td>20.9</td>\n",
       "      <td>-0.15</td>\n",
       "      <td>2.9</td>\n",
       "      <td>-0.23</td>\n",
       "      <td>16.471181</td>\n",
       "      <td>-0.180228</td>\n",
       "    </tr>\n",
       "    <tr>\n",
       "      <th>3935</th>\n",
       "      <td>2017-10-31</td>\n",
       "      <td>KMTVICTO9</td>\n",
       "      <td>25.9</td>\n",
       "      <td>47.3</td>\n",
       "      <td>28.12</td>\n",
       "      <td>27.88</td>\n",
       "      <td>2017-10-31 08:18:19-06:00</td>\n",
       "      <td>2017-10-31 18:22:47-06:00</td>\n",
       "      <td>NaN</td>\n",
       "      <td>NaN</td>\n",
       "      <td>...</td>\n",
       "      <td>NaN</td>\n",
       "      <td>NaN</td>\n",
       "      <td>NaN</td>\n",
       "      <td>NaN</td>\n",
       "      <td>NaN</td>\n",
       "      <td>NaN</td>\n",
       "      <td>NaN</td>\n",
       "      <td>NaN</td>\n",
       "      <td>NaN</td>\n",
       "      <td>NaN</td>\n",
       "    </tr>\n",
       "  </tbody>\n",
       "</table>\n",
       "<p>3 rows × 30 columns</p>\n",
       "</div>"
      ],
      "text/plain": [
       "            date station_id  rise_tempi  set_tempi  rise_pressi  set_pressi  \\\n",
       "3933  2017-10-29  KMTVICTO9        38.1       39.6        28.15       28.33   \n",
       "3934  2017-10-30  KMTVICTO9        26.8       33.1        28.38       28.23   \n",
       "3935  2017-10-31  KMTVICTO9        25.9       47.3        28.12       27.88   \n",
       "\n",
       "                        sunrise                     sunset  \\\n",
       "3933  2017-10-29 08:15:26-06:00  2017-10-29 18:25:49-06:00   \n",
       "3934  2017-10-30 08:16:52-06:00  2017-10-30 18:24:17-06:00   \n",
       "3935  2017-10-31 08:18:19-06:00  2017-10-31 18:22:47-06:00   \n",
       "\n",
       "      rise_set_diff_tempi  rise_set_diff_pressi  \\\n",
       "3933                  1.5                  0.18   \n",
       "3934                  6.3                 -0.15   \n",
       "3935                  NaN                   NaN   \n",
       "\n",
       "                     ...                  set_rise_min_tempi  \\\n",
       "3933                 ...                                26.8   \n",
       "3934                 ...                                23.5   \n",
       "3935                 ...                                 NaN   \n",
       "\n",
       "      set_rise_min_pressi  set_rise_mean_tempi  set_rise_mean_pressi  \\\n",
       "3933                28.33            33.200637             28.393949   \n",
       "3934                28.12            26.847403             28.195714   \n",
       "3935                  NaN                  NaN                   NaN   \n",
       "\n",
       "      rise_set_set_rise_max_diff_tempi  rise_set_set_rise_max_diff_pressi  \\\n",
       "3933                              12.0                              -0.05   \n",
       "3934                              20.9                              -0.15   \n",
       "3935                               NaN                                NaN   \n",
       "\n",
       "      rise_set_set_rise_min_diff_tempi  rise_set_set_rise_min_diff_pressi  \\\n",
       "3933                               7.2                              -0.16   \n",
       "3934                               2.9                              -0.23   \n",
       "3935                               NaN                                NaN   \n",
       "\n",
       "      rise_set_set_rise_mean_diff_tempi  rise_set_set_rise_mean_diff_pressi  \n",
       "3933                          11.703749                           -0.104037  \n",
       "3934                          16.471181                           -0.180228  \n",
       "3935                                NaN                                 NaN  \n",
       "\n",
       "[3 rows x 30 columns]"
      ]
     },
     "execution_count": 60,
     "metadata": {},
     "output_type": "execute_result"
    }
   ],
   "source": [
    "calcs.iloc[-3:, :]"
   ]
  },
  {
   "cell_type": "code",
   "execution_count": 54,
   "metadata": {
    "scrolled": true
   },
   "outputs": [
    {
     "data": {
      "text/plain": [
       "\"\\n    print(row[0])\\n    print(row[1].station_id)\\n    print(row[1].date)\\n    print(sunset_dt, sunrise_dt)\\n    print('\\n', row[1], '\\n')\\n    print('Max temp: ', set_rise_max_tempi)\\n    print('Max press:', set_rise_max_pressi)\\n    print('Min temp: ', set_rise_min_tempi)\\n    print('Min press:', set_rise_min_pressi)\\n    print('Mean temp :', set_rise_mean_tempi)\\n    print('Mean press:', set_rise_mean_pressi)\\n    print('\\n', wund[mask].describe(), '\\n')\\n\""
      ]
     },
     "execution_count": 54,
     "metadata": {},
     "output_type": "execute_result"
    }
   ],
   "source": [
    "for row in calcs[:-1].iterrows(): \n",
    "    # set variables\n",
    "    station_id = row[1].station_id\n",
    "    sunrise_dt = calcs.loc[row[0]+1].sunrise\n",
    "    sunset_dt = row[1].sunset\n",
    "    \n",
    "    # select date range\n",
    "    mask = (wund.index > sunset_dt) & (wund.index <= sunrise_dt) & (wund.station_id == station_id)\n",
    "\n",
    "    set_rise_mean_pressi = wund[mask].pressi.mean()\n",
    "    \n",
    "    calcs.loc[row[0], 'set_rise_mean_pressi'] = set_rise_mean_pressi\n",
    "'''\n",
    "    # max\n",
    "    set_rise_max_tempi = wund[mask].tempi.max()\n",
    "    set_rise_max_pressi = wund[mask].pressi.max()\n",
    "    \n",
    "    # min\n",
    "    set_rise_min_tempi = wund[mask].tempi.min()\n",
    "    set_rise_min_pressi = wund[mask].pressi.min()\n",
    "    \n",
    "    # mean\n",
    "    set_rise_mean_tempi = wund[mask].tempi.mean()\n",
    "'''\n",
    "    \n",
    "'''    \n",
    "    # store values in DataFrame\n",
    "    calcs.loc[row[0], 'set_rise_max_tempi'] = set_rise_max_tempi\n",
    "    calcs.loc[row[0], 'set_rise_max_pressi'] = set_rise_max_pressi\n",
    "    calcs.loc[row[0], 'set_rise_min_tempi'] = set_rise_min_tempi\n",
    "    calcs.loc[row[0], 'set_rise_min_pressi'] = set_rise_min_pressi\n",
    "    calcs.loc[row[0], 'set_rise_mean_tempi'] = set_rise_mean_tempi\n",
    "'''    \n",
    "   \n",
    "'''\n",
    "    print(row[0])\n",
    "    print(row[1].station_id)\n",
    "    print(row[1].date)\n",
    "    print(sunset_dt, sunrise_dt)\n",
    "    print('\\n', row[1], '\\n')\n",
    "    print('Max temp: ', set_rise_max_tempi)\n",
    "    print('Max press:', set_rise_max_pressi)\n",
    "    print('Min temp: ', set_rise_min_tempi)\n",
    "    print('Min press:', set_rise_min_pressi)\n",
    "    print('Mean temp :', set_rise_mean_tempi)\n",
    "    print('Mean press:', set_rise_mean_pressi)\n",
    "    print('\\n', wund[mask].describe(), '\\n')\n",
    "'''"
   ]
  },
  {
   "cell_type": "code",
   "execution_count": 59,
   "metadata": {},
   "outputs": [
    {
     "name": "stdout",
     "output_type": "stream",
     "text": [
      "<class 'pandas.core.frame.DataFrame'>\n",
      "RangeIndex: 3936 entries, 0 to 3935\n",
      "Data columns (total 30 columns):\n",
      "date                                  3936 non-null object\n",
      "station_id                            3936 non-null object\n",
      "rise_tempi                            3936 non-null float64\n",
      "set_tempi                             3936 non-null float64\n",
      "rise_pressi                           3936 non-null float64\n",
      "set_pressi                            3936 non-null float64\n",
      "sunrise                               3936 non-null object\n",
      "sunset                                3936 non-null object\n",
      "rise_set_diff_tempi                   3935 non-null float64\n",
      "rise_set_diff_pressi                  3935 non-null float64\n",
      "set_rise_diff_tempi                   3935 non-null float64\n",
      "set_rise_diff_pressi                  3935 non-null float64\n",
      "rise_set_max_tempi                    3702 non-null float64\n",
      "rise_set_max_pressi                   3702 non-null float64\n",
      "rise_set_min_tempi                    3702 non-null float64\n",
      "rise_set_min_pressi                   3702 non-null float64\n",
      "rise_set_mean_tempi                   3702 non-null float64\n",
      "rise_set_mean_pressi                  3702 non-null float64\n",
      "set_rise_max_tempi                    3640 non-null float64\n",
      "set_rise_max_pressi                   3640 non-null float64\n",
      "set_rise_min_tempi                    3640 non-null float64\n",
      "set_rise_min_pressi                   3640 non-null float64\n",
      "set_rise_mean_tempi                   3640 non-null float64\n",
      "set_rise_mean_pressi                  3640 non-null float64\n",
      "rise_set_set_rise_max_diff_tempi      3600 non-null float64\n",
      "rise_set_set_rise_max_diff_pressi     3600 non-null float64\n",
      "rise_set_set_rise_min_diff_tempi      3600 non-null float64\n",
      "rise_set_set_rise_min_diff_pressi     3600 non-null float64\n",
      "rise_set_set_rise_mean_diff_tempi     3600 non-null float64\n",
      "rise_set_set_rise_mean_diff_pressi    3600 non-null float64\n",
      "dtypes: float64(26), object(4)\n",
      "memory usage: 922.6+ KB\n"
     ]
    }
   ],
   "source": [
    "calcs.info()"
   ]
  },
  {
   "cell_type": "markdown",
   "metadata": {},
   "source": [
    "### Difference max, min, ave sunset to sunrise : sunrise to sunset"
   ]
  },
  {
   "cell_type": "code",
   "execution_count": 58,
   "metadata": {},
   "outputs": [
    {
     "data": {
      "text/plain": [
       "\"\\n    # set variables\\n    rise_set_set_rise_max_diff_tempi = row[1].rise_set_max_tempi - row[1].set_rise_max_tempi\\n    rise_set_set_rise_max_diff_pressi = row[1].rise_set_max_pressi - row[1].set_rise_max_pressi\\n    rise_set_set_rise_min_diff_tempi = row[1].rise_set_min_tempi - row[1].set_rise_min_tempi\\n    rise_set_set_rise_min_diff_pressi = row[1].rise_set_min_pressi - row[1].set_rise_min_pressi\\n    rise_set_set_rise_mean_diff_tempi = row[1].rise_set_mean_tempi - row[1].set_rise_mean_tempi\\n    rise_set_set_rise_mean_diff_pressi = row[1].rise_set_mean_pressi - row[1].set_rise_mean_pressi\\n\\n    # store values in DataFrame\\n    calcs.loc[row[0], 'rise_set_set_rise_max_diff_tempi'] = rise_set_set_rise_max_diff_tempi\\n    calcs.loc[row[0], 'rise_set_set_rise_max_diff_pressi'] = rise_set_set_rise_max_diff_pressi\\n    calcs.loc[row[0], 'rise_set_set_rise_min_diff_tempi'] = rise_set_set_rise_min_diff_tempi\\n    calcs.loc[row[0], 'rise_set_set_rise_min_diff_pressi'] = rise_set_set_rise_min_diff_pressi\\n    calcs.loc[row[0], 'rise_set_set_rise_mean_diff_tempi'] = rise_set_set_rise_mean_diff_tempi\\n\""
      ]
     },
     "execution_count": 58,
     "metadata": {},
     "output_type": "execute_result"
    }
   ],
   "source": [
    "# remember to set -1 to account for no 11/1 value\n",
    "for row in calcs.iterrows():\n",
    "    # sunrise to sunset\n",
    "    station_id = row[1].station_id\n",
    "    \n",
    "    rise_set_set_rise_mean_diff_tempi = row[1].rise_set_mean_tempi - row[1].set_rise_mean_tempi\n",
    "    rise_set_set_rise_mean_diff_pressi = row[1].rise_set_mean_pressi - row[1].set_rise_mean_pressi\n",
    "\n",
    "    calcs.loc[row[0], 'rise_set_set_rise_mean_diff_tempi'] = rise_set_set_rise_mean_diff_tempi\n",
    "    calcs.loc[row[0], 'rise_set_set_rise_mean_diff_pressi'] = rise_set_set_rise_mean_diff_pressi\n",
    "    \n",
    "'''\n",
    "    # set variables\n",
    "    rise_set_set_rise_max_diff_tempi = row[1].rise_set_max_tempi - row[1].set_rise_max_tempi\n",
    "    rise_set_set_rise_max_diff_pressi = row[1].rise_set_max_pressi - row[1].set_rise_max_pressi\n",
    "    rise_set_set_rise_min_diff_tempi = row[1].rise_set_min_tempi - row[1].set_rise_min_tempi\n",
    "    rise_set_set_rise_min_diff_pressi = row[1].rise_set_min_pressi - row[1].set_rise_min_pressi\n",
    "    rise_set_set_rise_mean_diff_tempi = row[1].rise_set_mean_tempi - row[1].set_rise_mean_tempi\n",
    "    rise_set_set_rise_mean_diff_pressi = row[1].rise_set_mean_pressi - row[1].set_rise_mean_pressi\n",
    "\n",
    "    # store values in DataFrame\n",
    "    calcs.loc[row[0], 'rise_set_set_rise_max_diff_tempi'] = rise_set_set_rise_max_diff_tempi\n",
    "    calcs.loc[row[0], 'rise_set_set_rise_max_diff_pressi'] = rise_set_set_rise_max_diff_pressi\n",
    "    calcs.loc[row[0], 'rise_set_set_rise_min_diff_tempi'] = rise_set_set_rise_min_diff_tempi\n",
    "    calcs.loc[row[0], 'rise_set_set_rise_min_diff_pressi'] = rise_set_set_rise_min_diff_pressi\n",
    "    calcs.loc[row[0], 'rise_set_set_rise_mean_diff_tempi'] = rise_set_set_rise_mean_diff_tempi\n",
    "'''    "
   ]
  },
  {
   "cell_type": "code",
   "execution_count": 1068,
   "metadata": {},
   "outputs": [
    {
     "data": {
      "text/html": [
       "<div>\n",
       "<style>\n",
       "    .dataframe thead tr:only-child th {\n",
       "        text-align: right;\n",
       "    }\n",
       "\n",
       "    .dataframe thead th {\n",
       "        text-align: left;\n",
       "    }\n",
       "\n",
       "    .dataframe tbody tr th {\n",
       "        vertical-align: top;\n",
       "    }\n",
       "</style>\n",
       "<table border=\"1\" class=\"dataframe\">\n",
       "  <thead>\n",
       "    <tr style=\"text-align: right;\">\n",
       "      <th></th>\n",
       "      <th>date</th>\n",
       "      <th>station_id</th>\n",
       "      <th>rise_tempi</th>\n",
       "      <th>set_tempi</th>\n",
       "      <th>rise_pressi</th>\n",
       "      <th>set_pressi</th>\n",
       "      <th>sunrise</th>\n",
       "      <th>sunset</th>\n",
       "      <th>rise_set_diff_tempi</th>\n",
       "      <th>rise_set_diff_pressi</th>\n",
       "      <th>...</th>\n",
       "      <th>set_rise_max_pressi</th>\n",
       "      <th>set_rise_min_tempi</th>\n",
       "      <th>set_rise_min_pressi</th>\n",
       "      <th>set_rise_mean_tempi</th>\n",
       "      <th>set_rise_mean_pressi</th>\n",
       "      <th>rise_set_set_rise_max_diff_tempi</th>\n",
       "      <th>rise_set_set_rise_max_diff_pressi</th>\n",
       "      <th>rise_set_set_rise_min_diff_tempi</th>\n",
       "      <th>rise_set_set_rise_min_diff_pressi</th>\n",
       "      <th>rise_set_set_rise_mean_diff_tempi</th>\n",
       "    </tr>\n",
       "  </thead>\n",
       "  <tbody>\n",
       "    <tr>\n",
       "      <th>0</th>\n",
       "      <td>2017-07-01</td>\n",
       "      <td>KMTCORVA9</td>\n",
       "      <td>51.1</td>\n",
       "      <td>71.6</td>\n",
       "      <td>26</td>\n",
       "      <td>25.94</td>\n",
       "      <td>2017-07-01 05:48:49-06:00</td>\n",
       "      <td>2017-07-01 21:31:41-06:00</td>\n",
       "      <td>20.5</td>\n",
       "      <td>-0.06</td>\n",
       "      <td>...</td>\n",
       "      <td>25.99</td>\n",
       "      <td>55.6</td>\n",
       "      <td>25.94</td>\n",
       "      <td>62.315625</td>\n",
       "      <td>62.315625</td>\n",
       "      <td>19.1</td>\n",
       "      <td>0.03</td>\n",
       "      <td>0.5</td>\n",
       "      <td>-0.01</td>\n",
       "      <td>13.31258</td>\n",
       "    </tr>\n",
       "  </tbody>\n",
       "</table>\n",
       "<p>1 rows × 29 columns</p>\n",
       "</div>"
      ],
      "text/plain": [
       "         date station_id rise_tempi set_tempi rise_pressi set_pressi  \\\n",
       "0  2017-07-01  KMTCORVA9       51.1      71.6          26      25.94   \n",
       "\n",
       "                     sunrise                     sunset  rise_set_diff_tempi  \\\n",
       "0  2017-07-01 05:48:49-06:00  2017-07-01 21:31:41-06:00                 20.5   \n",
       "\n",
       "   rise_set_diff_pressi                ...                  \\\n",
       "0                 -0.06                ...                   \n",
       "\n",
       "   set_rise_max_pressi  set_rise_min_tempi  set_rise_min_pressi  \\\n",
       "0                25.99                55.6                25.94   \n",
       "\n",
       "   set_rise_mean_tempi  set_rise_mean_pressi  \\\n",
       "0            62.315625             62.315625   \n",
       "\n",
       "   rise_set_set_rise_max_diff_tempi  rise_set_set_rise_max_diff_pressi  \\\n",
       "0                              19.1                               0.03   \n",
       "\n",
       "   rise_set_set_rise_min_diff_tempi  rise_set_set_rise_min_diff_pressi  \\\n",
       "0                               0.5                              -0.01   \n",
       "\n",
       "   rise_set_set_rise_mean_diff_tempi  \n",
       "0                           13.31258  \n",
       "\n",
       "[1 rows x 29 columns]"
      ]
     },
     "execution_count": 1068,
     "metadata": {},
     "output_type": "execute_result"
    }
   ],
   "source": [
    "calcs.head(1)"
   ]
  },
  {
   "cell_type": "code",
   "execution_count": 1,
   "metadata": {},
   "outputs": [
    {
     "ename": "NameError",
     "evalue": "name 'calcs' is not defined",
     "output_type": "error",
     "traceback": [
      "\u001b[0;31m---------------------------------------------------------------------------\u001b[0m",
      "\u001b[0;31mNameError\u001b[0m                                 Traceback (most recent call last)",
      "\u001b[0;32m<ipython-input-1-30032e97cbeb>\u001b[0m in \u001b[0;36m<module>\u001b[0;34m()\u001b[0m\n\u001b[0;32m----> 1\u001b[0;31m \u001b[0mcalcs\u001b[0m\u001b[0;34m.\u001b[0m\u001b[0minfo\u001b[0m\u001b[0;34m(\u001b[0m\u001b[0;34m)\u001b[0m\u001b[0;34m\u001b[0m\u001b[0m\n\u001b[0m",
      "\u001b[0;31mNameError\u001b[0m: name 'calcs' is not defined"
     ]
    }
   ],
   "source": [
    "calcs.info()"
   ]
  },
  {
   "cell_type": "code",
   "execution_count": 1066,
   "metadata": {
    "collapsed": true
   },
   "outputs": [],
   "source": [
    "filename = '../data/2017-sunrise_set-temp_pressure-190125_004.csv'\n",
    "calcs.to_csv(filename, index=False)"
   ]
  },
  {
   "cell_type": "markdown",
   "metadata": {},
   "source": [
    "# Notes"
   ]
  },
  {
   "cell_type": "markdown",
   "metadata": {},
   "source": [
    "* set to rise calculated based on 9/1 set to 9/2 rise value assigned to 9/1\n",
    "* there are some NaNs in here which I am working to understand\n",
    " * the NaNs exist in max,min,mean columns which work with an array of wunderground sample rows\n",
    "  * my guess is there is some kind of issues in the array of rows used to generate max, min, mean"
   ]
  }
 ],
 "metadata": {
  "kernelspec": {
   "display_name": "Python 3",
   "language": "python",
   "name": "python3"
  },
  "language_info": {
   "codemirror_mode": {
    "name": "ipython",
    "version": 3
   },
   "file_extension": ".py",
   "mimetype": "text/x-python",
   "name": "python",
   "nbconvert_exporter": "python",
   "pygments_lexer": "ipython3",
   "version": "3.6.3"
  }
 },
 "nbformat": 4,
 "nbformat_minor": 2
}
