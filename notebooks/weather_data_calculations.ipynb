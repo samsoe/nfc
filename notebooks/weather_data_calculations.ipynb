{
 "cells": [
  {
   "cell_type": "markdown",
   "metadata": {},
   "source": [
    "For each 24 hour day (midnight tomidnight) we'd like to know the following:\n",
    "* Temperature and barometric pressure values at sunrise and sunset\n",
    "* Difference between temp and pressure at sunrise and sunset\n",
    "* Maximum, minimum and averages for temp and pressure for both of the time frames of sunset to sunrise and sunrise to sunset\n",
    "* Differences between the max, min and average for both of these time frames."
   ]
  },
  {
   "cell_type": "markdown",
   "metadata": {},
   "source": [
    "\n",
    "# Load libraries"
   ]
  },
  {
   "cell_type": "code",
   "execution_count": 1,
   "metadata": {
    "collapsed": true
   },
   "outputs": [],
   "source": [
    "# pandas for data structure\n",
    "import pandas as pd"
   ]
  },
  {
   "cell_type": "markdown",
   "metadata": {},
   "source": [
    "# Load data"
   ]
  },
  {
   "cell_type": "markdown",
   "metadata": {},
   "source": [
    "#### Weather Data"
   ]
  },
  {
   "cell_type": "markdown",
   "metadata": {},
   "source": [
    "* data collected from [Wunderground](https://www.wunderground.com/weather/api/)\n",
    "* hosted file: [Google Drive](https://drive.google.com/file/d/1eS0gGM14g7iFulUeqz3XwbKb5OtK9aSI/view)"
   ]
  },
  {
   "cell_type": "code",
   "execution_count": 2,
   "metadata": {
    "collapsed": true
   },
   "outputs": [],
   "source": [
    "# local file\n",
    "filename_wunderground = '../data/wunderground-170701_171101-day_night.csv'"
   ]
  },
  {
   "cell_type": "code",
   "execution_count": 3,
   "metadata": {
    "collapsed": true
   },
   "outputs": [],
   "source": [
    "# load data into dataframes\n",
    "wund = pd.read_csv(filename_wunderground, parse_dates=['utc_date'])"
   ]
  },
  {
   "cell_type": "code",
   "execution_count": 4,
   "metadata": {
    "collapsed": true
   },
   "outputs": [],
   "source": [
    "wund['utc_date'] = wund['utc_date'].dt.tz_localize('utc')"
   ]
  },
  {
   "cell_type": "code",
   "execution_count": 5,
   "metadata": {
    "collapsed": true
   },
   "outputs": [],
   "source": [
    "# localize datetime make local_date column\n",
    "wund['local_date'] = pd.to_datetime(wund.loc[:, 'utc_date']).dt.tz_convert('US/Mountain')"
   ]
  },
  {
   "cell_type": "code",
   "execution_count": 43,
   "metadata": {
    "collapsed": true,
    "scrolled": true
   },
   "outputs": [],
   "source": [
    "wund = wund.set_index('local_date')"
   ]
  },
  {
   "cell_type": "code",
   "execution_count": 266,
   "metadata": {},
   "outputs": [],
   "source": [
    "wund = wund[['station_id', 'pressurei', 'pressurem', 'tempi', 'tempm', 'utc_date']]"
   ]
  },
  {
   "cell_type": "code",
   "execution_count": 267,
   "metadata": {},
   "outputs": [
    {
     "name": "stdout",
     "output_type": "stream",
     "text": [
      "<class 'pandas.core.frame.DataFrame'>\n",
      "DatetimeIndex: 727764 entries, 2017-07-01 00:12:00-06:00 to 2017-10-31 23:56:00-06:00\n",
      "Data columns (total 6 columns):\n",
      "station_id    727764 non-null object\n",
      "pressurei     727764 non-null float64\n",
      "pressurem     727764 non-null float64\n",
      "tempi         727764 non-null float64\n",
      "tempm         727764 non-null float64\n",
      "utc_date      727764 non-null datetime64[ns, UTC]\n",
      "dtypes: datetime64[ns, UTC](1), float64(4), object(1)\n",
      "memory usage: 58.9+ MB\n"
     ]
    }
   ],
   "source": [
    "wund.info()"
   ]
  },
  {
   "cell_type": "code",
   "execution_count": 268,
   "metadata": {},
   "outputs": [
    {
     "data": {
      "text/html": [
       "<div>\n",
       "<style>\n",
       "    .dataframe thead tr:only-child th {\n",
       "        text-align: right;\n",
       "    }\n",
       "\n",
       "    .dataframe thead th {\n",
       "        text-align: left;\n",
       "    }\n",
       "\n",
       "    .dataframe tbody tr th {\n",
       "        vertical-align: top;\n",
       "    }\n",
       "</style>\n",
       "<table border=\"1\" class=\"dataframe\">\n",
       "  <thead>\n",
       "    <tr style=\"text-align: right;\">\n",
       "      <th></th>\n",
       "      <th>station_id</th>\n",
       "      <th>pressurei</th>\n",
       "      <th>pressurem</th>\n",
       "      <th>tempi</th>\n",
       "      <th>tempm</th>\n",
       "      <th>utc_date</th>\n",
       "    </tr>\n",
       "    <tr>\n",
       "      <th>local_date</th>\n",
       "      <th></th>\n",
       "      <th></th>\n",
       "      <th></th>\n",
       "      <th></th>\n",
       "      <th></th>\n",
       "      <th></th>\n",
       "    </tr>\n",
       "  </thead>\n",
       "  <tbody>\n",
       "    <tr>\n",
       "      <th>2017-07-01 00:12:00-06:00</th>\n",
       "      <td>KMTCORVA9</td>\n",
       "      <td>26.0</td>\n",
       "      <td>880.4</td>\n",
       "      <td>58.8</td>\n",
       "      <td>14.9</td>\n",
       "      <td>2017-07-01 06:12:00+00:00</td>\n",
       "    </tr>\n",
       "    <tr>\n",
       "      <th>2017-07-01 00:28:00-06:00</th>\n",
       "      <td>KMTCORVA9</td>\n",
       "      <td>26.0</td>\n",
       "      <td>880.4</td>\n",
       "      <td>59.0</td>\n",
       "      <td>15.0</td>\n",
       "      <td>2017-07-01 06:28:00+00:00</td>\n",
       "    </tr>\n",
       "  </tbody>\n",
       "</table>\n",
       "</div>"
      ],
      "text/plain": [
       "                          station_id  pressurei  pressurem  tempi  tempm  \\\n",
       "local_date                                                                 \n",
       "2017-07-01 00:12:00-06:00  KMTCORVA9       26.0      880.4   58.8   14.9   \n",
       "2017-07-01 00:28:00-06:00  KMTCORVA9       26.0      880.4   59.0   15.0   \n",
       "\n",
       "                                           utc_date  \n",
       "local_date                                           \n",
       "2017-07-01 00:12:00-06:00 2017-07-01 06:12:00+00:00  \n",
       "2017-07-01 00:28:00-06:00 2017-07-01 06:28:00+00:00  "
      ]
     },
     "execution_count": 268,
     "metadata": {},
     "output_type": "execute_result"
    }
   ],
   "source": [
    "wund.head(2)"
   ]
  },
  {
   "cell_type": "markdown",
   "metadata": {},
   "source": [
    "#### Sunset Sunrise Data"
   ]
  },
  {
   "cell_type": "code",
   "execution_count": 210,
   "metadata": {
    "collapsed": true,
    "scrolled": true
   },
   "outputs": [],
   "source": [
    "# Load Sunset Sunrise data\n",
    "sun_filename = '../data/sunrise_sunset-wunderground-utc.csv'\n",
    "sun = pd.read_csv(sun_filename, parse_dates=['sunrise', 'sunset'])"
   ]
  },
  {
   "cell_type": "code",
   "execution_count": 211,
   "metadata": {
    "collapsed": true
   },
   "outputs": [],
   "source": [
    "# Select a subset of loaded DataFrame\n",
    "sun = sun[['station_id', 'sunrise', 'sunset']]"
   ]
  },
  {
   "cell_type": "code",
   "execution_count": 212,
   "metadata": {
    "collapsed": true
   },
   "outputs": [],
   "source": [
    "# Rename columns\n",
    "sun.columns = ['station_id', 'sunrise_utc', 'sunset_utc']"
   ]
  },
  {
   "cell_type": "code",
   "execution_count": 213,
   "metadata": {
    "collapsed": true
   },
   "outputs": [],
   "source": [
    "# Localize datetime to UTC\n",
    "sun['sunrise_utc'] = sun['sunrise_utc'].dt.tz_localize('utc')\n",
    "sun['sunset_utc'] = sun['sunset_utc'].dt.tz_localize('utc')"
   ]
  },
  {
   "cell_type": "code",
   "execution_count": 214,
   "metadata": {
    "collapsed": true
   },
   "outputs": [],
   "source": [
    "# Create US/Mountain datetimes\n",
    "sun['sunrise_local'] = pd.to_datetime(sun.loc[:, 'sunrise_utc']).dt.tz_convert('US/Mountain')\n",
    "sun['sunset_local'] = pd.to_datetime(sun.loc[:, 'sunset_utc']).dt.tz_convert('US/Mountain')"
   ]
  },
  {
   "cell_type": "code",
   "execution_count": 246,
   "metadata": {
    "collapsed": true
   },
   "outputs": [],
   "source": [
    "# Reorder columns\n",
    "sun = sun[['station_id', 'sunrise_local', 'sunset_local', 'sunrise_utc', 'sunset_utc']]"
   ]
  },
  {
   "cell_type": "code",
   "execution_count": 250,
   "metadata": {},
   "outputs": [],
   "source": [
    "# Drop rows which start 2017-06-30\n",
    "sun = sun[sun.sunset_local.dt.month != 6]"
   ]
  },
  {
   "cell_type": "code",
   "execution_count": 254,
   "metadata": {
    "collapsed": true
   },
   "outputs": [],
   "source": [
    "# Reset index\n",
    "sun = sun.reset_index(drop=True)"
   ]
  },
  {
   "cell_type": "code",
   "execution_count": 259,
   "metadata": {},
   "outputs": [
    {
     "data": {
      "text/html": [
       "<div>\n",
       "<style>\n",
       "    .dataframe thead tr:only-child th {\n",
       "        text-align: right;\n",
       "    }\n",
       "\n",
       "    .dataframe thead th {\n",
       "        text-align: left;\n",
       "    }\n",
       "\n",
       "    .dataframe tbody tr th {\n",
       "        vertical-align: top;\n",
       "    }\n",
       "</style>\n",
       "<table border=\"1\" class=\"dataframe\">\n",
       "  <thead>\n",
       "    <tr style=\"text-align: right;\">\n",
       "      <th></th>\n",
       "      <th>station_id</th>\n",
       "      <th>sunrise_local</th>\n",
       "      <th>sunset_local</th>\n",
       "      <th>sunrise_utc</th>\n",
       "      <th>sunset_utc</th>\n",
       "    </tr>\n",
       "  </thead>\n",
       "  <tbody>\n",
       "    <tr>\n",
       "      <th>0</th>\n",
       "      <td>KMTCORVA9</td>\n",
       "      <td>2017-07-01 05:48:49-06:00</td>\n",
       "      <td>2017-07-01 21:31:41-06:00</td>\n",
       "      <td>2017-07-01 11:48:49+00:00</td>\n",
       "      <td>2017-07-02 03:31:41+00:00</td>\n",
       "    </tr>\n",
       "    <tr>\n",
       "      <th>1</th>\n",
       "      <td>KMTCORVA9</td>\n",
       "      <td>2017-07-02 05:49:27-06:00</td>\n",
       "      <td>2017-07-02 21:31:25-06:00</td>\n",
       "      <td>2017-07-02 11:49:27+00:00</td>\n",
       "      <td>2017-07-03 03:31:25+00:00</td>\n",
       "    </tr>\n",
       "  </tbody>\n",
       "</table>\n",
       "</div>"
      ],
      "text/plain": [
       "  station_id             sunrise_local              sunset_local  \\\n",
       "0  KMTCORVA9 2017-07-01 05:48:49-06:00 2017-07-01 21:31:41-06:00   \n",
       "1  KMTCORVA9 2017-07-02 05:49:27-06:00 2017-07-02 21:31:25-06:00   \n",
       "\n",
       "                sunrise_utc                sunset_utc  \n",
       "0 2017-07-01 11:48:49+00:00 2017-07-02 03:31:41+00:00  \n",
       "1 2017-07-02 11:49:27+00:00 2017-07-03 03:31:25+00:00  "
      ]
     },
     "execution_count": 259,
     "metadata": {},
     "output_type": "execute_result"
    }
   ],
   "source": [
    "sun.head(2)"
   ]
  },
  {
   "cell_type": "markdown",
   "metadata": {},
   "source": [
    "# New DataFrame"
   ]
  },
  {
   "cell_type": "code",
   "execution_count": 327,
   "metadata": {
    "collapsed": true
   },
   "outputs": [],
   "source": [
    "# Column names\n",
    "columns = ['rise_tempi','set_tempi','rise_pressurei','set_pressurei', 'rise_set_diff', 'set_rise_diff',\n",
    "          'set_rise_max', 'set_rise_min', 'set_rise_ave', 'rise_set_max', 'rise_set_min', 'rise_set_ave',\n",
    "          'set_rise_rise_set_max_diff', 'set_rise_rise_set_min_diff', 'set_rise_rise_set_ave_diff']"
   ]
  },
  {
   "cell_type": "code",
   "execution_count": 329,
   "metadata": {},
   "outputs": [],
   "source": [
    "calcs = pd.DataFrame(columns=columns)"
   ]
  },
  {
   "cell_type": "code",
   "execution_count": 330,
   "metadata": {},
   "outputs": [
    {
     "name": "stdout",
     "output_type": "stream",
     "text": [
      "<class 'pandas.core.frame.DataFrame'>\n",
      "Index: 0 entries\n",
      "Data columns (total 15 columns):\n",
      "rise_tempi                    0 non-null object\n",
      "set_tempi                     0 non-null object\n",
      "rise_pressurei                0 non-null object\n",
      "set_pressurei                 0 non-null object\n",
      "rise_set_diff                 0 non-null object\n",
      "set_rise_diff                 0 non-null object\n",
      "set_rise_max                  0 non-null object\n",
      "set_rise_min                  0 non-null object\n",
      "set_rise_ave                  0 non-null object\n",
      "rise_set_max                  0 non-null object\n",
      "rise_set_min                  0 non-null object\n",
      "rise_set_ave                  0 non-null object\n",
      "set_rise_rise_set_max_diff    0 non-null object\n",
      "set_rise_rise_set_min_diff    0 non-null object\n",
      "set_rise_rise_set_ave_diff    0 non-null object\n",
      "dtypes: object(15)\n",
      "memory usage: 0.0+ bytes\n"
     ]
    }
   ],
   "source": [
    "calcs.info()"
   ]
  },
  {
   "cell_type": "markdown",
   "metadata": {},
   "source": [
    "# Calculations"
   ]
  },
  {
   "cell_type": "markdown",
   "metadata": {},
   "source": [
    "### Column for values at Sunrise and Sunset\n",
    "* 'values' refers to temperature and pressure data\n",
    "* indexed by day\n",
    "* date will go sunrise to sunset\n",
    "* columns = ['rise_tempi','set_tempi','rise_pressurei','set_pressurei']\n",
    "* index = ['2017-07-01', .... '2017-10-31']"
   ]
  },
  {
   "cell_type": "markdown",
   "metadata": {},
   "source": [
    "* Get closest wund.local_date to sun.sunrise_local\n",
    "* [query the closest datetime index](https://stackoverflow.com/questions/42264848/pandas-dataframe-how-to-query-the-closest-datetime-index)"
   ]
  },
  {
   "cell_type": "markdown",
   "metadata": {},
   "source": [
    "#### Query wund for closest datetime to light variable"
   ]
  },
  {
   "cell_type": "code",
   "execution_count": 319,
   "metadata": {
    "collapsed": true
   },
   "outputs": [],
   "source": [
    "def find_closest_weather_sample(station, date):\n",
    "    idx = wund[wund.station_id == station].index.get_loc(date, method='nearest')\n",
    "    return idx"
   ]
  },
  {
   "cell_type": "code",
   "execution_count": 326,
   "metadata": {},
   "outputs": [
    {
     "name": "stdout",
     "output_type": "stream",
     "text": [
      "KMTCORVA9 Sunrise: 2017-07-01 05:48:49-06:00\n",
      "Nearest Weather Sample:\n",
      "station_id                    KMTCORVA9\n",
      "pressurei                            26\n",
      "pressurem                         880.4\n",
      "tempi                              51.1\n",
      "tempm                              10.6\n",
      "utc_date      2017-07-01 11:51:00+00:00\n",
      "Name: 2017-07-01 05:51:00-06:00, dtype: object\n",
      "\n",
      "\n"
     ]
    }
   ],
   "source": [
    "# Find weather samples for sunset and sunrise\n",
    "for row in sun.head(1).iterrows():\n",
    "    station_id = row[1]['station_id']\n",
    "    sunrise_local = row[1]['sunrise_local']\n",
    "    sunset_local = row[1]['sunset_local']\n",
    "    print(station_id, 'Sunrise:', sunrise_local)\n",
    "    print('Nearest Weather Sample:')\n",
    "    print(wund.iloc[find_closest_weather_sample(station_id, sunrise_local)])\n",
    "    print('\\n')\n",
    "    "
   ]
  },
  {
   "cell_type": "markdown",
   "metadata": {},
   "source": [
    "### Difference sunset, sunrise values"
   ]
  },
  {
   "cell_type": "code",
   "execution_count": null,
   "metadata": {
    "collapsed": true
   },
   "outputs": [],
   "source": []
  },
  {
   "cell_type": "markdown",
   "metadata": {},
   "source": [
    "### Difference sunrise, sunset values"
   ]
  },
  {
   "cell_type": "code",
   "execution_count": null,
   "metadata": {
    "collapsed": true
   },
   "outputs": [],
   "source": []
  },
  {
   "cell_type": "markdown",
   "metadata": {},
   "source": [
    "### Max, min, ave : sunset to sunrise : sunrise to sunset"
   ]
  },
  {
   "cell_type": "code",
   "execution_count": null,
   "metadata": {
    "collapsed": true
   },
   "outputs": [],
   "source": []
  },
  {
   "cell_type": "markdown",
   "metadata": {},
   "source": [
    "### Difference max, min, ave sunset to sunrise : sunrise to sunset"
   ]
  },
  {
   "cell_type": "code",
   "execution_count": null,
   "metadata": {
    "collapsed": true
   },
   "outputs": [],
   "source": []
  }
 ],
 "metadata": {
  "kernelspec": {
   "display_name": "Python 3",
   "language": "python",
   "name": "python3"
  },
  "language_info": {
   "codemirror_mode": {
    "name": "ipython",
    "version": 3
   },
   "file_extension": ".py",
   "mimetype": "text/x-python",
   "name": "python",
   "nbconvert_exporter": "python",
   "pygments_lexer": "ipython3",
   "version": "3.6.3"
  }
 },
 "nbformat": 4,
 "nbformat_minor": 2
}
