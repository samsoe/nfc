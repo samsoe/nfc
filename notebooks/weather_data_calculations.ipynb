{
 "cells": [
  {
   "cell_type": "markdown",
   "metadata": {},
   "source": [
    "For each 24 hour day (midnight tomidnight) we'd like to know the following:\n",
    "* Temperature and barometric pressure values at sunrise and sunset\n",
    "* Difference between temp and pressure at sunrise and sunset\n",
    "* Maximum, minimum and averages for temp and pressure for both of the time frames of sunset to sunrise and sunrise to sunset\n",
    "* Differences between the max, min and average for both of these time frames."
   ]
  },
  {
   "cell_type": "markdown",
   "metadata": {},
   "source": [
    "\n",
    "# Load libraries"
   ]
  },
  {
   "cell_type": "code",
   "execution_count": 473,
   "metadata": {
    "collapsed": true
   },
   "outputs": [],
   "source": [
    "# pandas for data structure\n",
    "import pandas as pd\n",
    "import datetime"
   ]
  },
  {
   "cell_type": "markdown",
   "metadata": {},
   "source": [
    "# Load data"
   ]
  },
  {
   "cell_type": "markdown",
   "metadata": {},
   "source": [
    "#### Weather Data"
   ]
  },
  {
   "cell_type": "markdown",
   "metadata": {},
   "source": [
    "* data collected from [Wunderground](https://www.wunderground.com/weather/api/)\n",
    "* hosted file: [Google Drive](https://drive.google.com/file/d/1eS0gGM14g7iFulUeqz3XwbKb5OtK9aSI/view)"
   ]
  },
  {
   "cell_type": "code",
   "execution_count": 474,
   "metadata": {
    "collapsed": true
   },
   "outputs": [],
   "source": [
    "# local file\n",
    "filename_wunderground = '../data/wunderground-170701_171101-day_night.csv'"
   ]
  },
  {
   "cell_type": "code",
   "execution_count": 475,
   "metadata": {
    "collapsed": true
   },
   "outputs": [],
   "source": [
    "# load data into dataframes\n",
    "wund = pd.read_csv(filename_wunderground, parse_dates=['utc_date'])"
   ]
  },
  {
   "cell_type": "code",
   "execution_count": 476,
   "metadata": {
    "collapsed": true
   },
   "outputs": [],
   "source": [
    "wund['utc_date'] = wund['utc_date'].dt.tz_localize('utc')"
   ]
  },
  {
   "cell_type": "code",
   "execution_count": 477,
   "metadata": {
    "collapsed": true
   },
   "outputs": [],
   "source": [
    "# localize datetime make local_date column\n",
    "wund['local_date'] = pd.to_datetime(wund.loc[:, 'utc_date']).dt.tz_convert('US/Mountain')"
   ]
  },
  {
   "cell_type": "code",
   "execution_count": 478,
   "metadata": {
    "collapsed": true,
    "scrolled": true
   },
   "outputs": [],
   "source": [
    "wund = wund.set_index('local_date')"
   ]
  },
  {
   "cell_type": "code",
   "execution_count": 479,
   "metadata": {},
   "outputs": [],
   "source": [
    "wund = wund[['station_id', 'pressurei', 'pressurem', 'tempi', 'tempm', 'utc_date']]"
   ]
  },
  {
   "cell_type": "code",
   "execution_count": 480,
   "metadata": {
    "collapsed": true
   },
   "outputs": [],
   "source": [
    "wund.columns = ['station_id', 'pressi', 'pressm', 'tempi', 'tempm', 'utc_date']"
   ]
  },
  {
   "cell_type": "code",
   "execution_count": 481,
   "metadata": {},
   "outputs": [
    {
     "name": "stdout",
     "output_type": "stream",
     "text": [
      "<class 'pandas.core.frame.DataFrame'>\n",
      "DatetimeIndex: 727764 entries, 2017-07-01 00:12:00-06:00 to 2017-10-31 23:56:00-06:00\n",
      "Data columns (total 6 columns):\n",
      "station_id    727764 non-null object\n",
      "pressi        727764 non-null float64\n",
      "pressm        727764 non-null float64\n",
      "tempi         727764 non-null float64\n",
      "tempm         727764 non-null float64\n",
      "utc_date      727764 non-null datetime64[ns, UTC]\n",
      "dtypes: datetime64[ns, UTC](1), float64(4), object(1)\n",
      "memory usage: 38.9+ MB\n"
     ]
    }
   ],
   "source": [
    "wund.info()"
   ]
  },
  {
   "cell_type": "code",
   "execution_count": 483,
   "metadata": {},
   "outputs": [
    {
     "data": {
      "text/html": [
       "<div>\n",
       "<style>\n",
       "    .dataframe thead tr:only-child th {\n",
       "        text-align: right;\n",
       "    }\n",
       "\n",
       "    .dataframe thead th {\n",
       "        text-align: left;\n",
       "    }\n",
       "\n",
       "    .dataframe tbody tr th {\n",
       "        vertical-align: top;\n",
       "    }\n",
       "</style>\n",
       "<table border=\"1\" class=\"dataframe\">\n",
       "  <thead>\n",
       "    <tr style=\"text-align: right;\">\n",
       "      <th></th>\n",
       "      <th>station_id</th>\n",
       "      <th>pressi</th>\n",
       "      <th>pressm</th>\n",
       "      <th>tempi</th>\n",
       "      <th>tempm</th>\n",
       "      <th>utc_date</th>\n",
       "    </tr>\n",
       "    <tr>\n",
       "      <th>local_date</th>\n",
       "      <th></th>\n",
       "      <th></th>\n",
       "      <th></th>\n",
       "      <th></th>\n",
       "      <th></th>\n",
       "      <th></th>\n",
       "    </tr>\n",
       "  </thead>\n",
       "  <tbody>\n",
       "    <tr>\n",
       "      <th>2017-10-31 23:51:00-06:00</th>\n",
       "      <td>KMTVICTO9</td>\n",
       "      <td>29.71</td>\n",
       "      <td>1006.0</td>\n",
       "      <td>50.9</td>\n",
       "      <td>10.5</td>\n",
       "      <td>2017-11-01 05:51:00+00:00</td>\n",
       "    </tr>\n",
       "    <tr>\n",
       "      <th>2017-10-31 23:56:00-06:00</th>\n",
       "      <td>KMTVICTO9</td>\n",
       "      <td>29.71</td>\n",
       "      <td>1006.0</td>\n",
       "      <td>50.5</td>\n",
       "      <td>10.3</td>\n",
       "      <td>2017-11-01 05:56:00+00:00</td>\n",
       "    </tr>\n",
       "  </tbody>\n",
       "</table>\n",
       "</div>"
      ],
      "text/plain": [
       "                          station_id  pressi  pressm  tempi  tempm  \\\n",
       "local_date                                                           \n",
       "2017-10-31 23:51:00-06:00  KMTVICTO9   29.71  1006.0   50.9   10.5   \n",
       "2017-10-31 23:56:00-06:00  KMTVICTO9   29.71  1006.0   50.5   10.3   \n",
       "\n",
       "                                           utc_date  \n",
       "local_date                                           \n",
       "2017-10-31 23:51:00-06:00 2017-11-01 05:51:00+00:00  \n",
       "2017-10-31 23:56:00-06:00 2017-11-01 05:56:00+00:00  "
      ]
     },
     "execution_count": 483,
     "metadata": {},
     "output_type": "execute_result"
    }
   ],
   "source": [
    "wund.tail(2)"
   ]
  },
  {
   "cell_type": "markdown",
   "metadata": {},
   "source": [
    "#### Sunset Sunrise Data"
   ]
  },
  {
   "cell_type": "code",
   "execution_count": 210,
   "metadata": {
    "collapsed": true,
    "scrolled": true
   },
   "outputs": [],
   "source": [
    "# Load Sunset Sunrise data\n",
    "sun_filename = '../data/sunrise_sunset-wunderground-utc.csv'\n",
    "sun = pd.read_csv(sun_filename, parse_dates=['sunrise', 'sunset'])"
   ]
  },
  {
   "cell_type": "code",
   "execution_count": 211,
   "metadata": {
    "collapsed": true
   },
   "outputs": [],
   "source": [
    "# Select a subset of loaded DataFrame\n",
    "sun = sun[['station_id', 'sunrise', 'sunset']]"
   ]
  },
  {
   "cell_type": "code",
   "execution_count": 212,
   "metadata": {
    "collapsed": true
   },
   "outputs": [],
   "source": [
    "# Rename columns\n",
    "sun.columns = ['station_id', 'sunrise_utc', 'sunset_utc']"
   ]
  },
  {
   "cell_type": "code",
   "execution_count": 213,
   "metadata": {
    "collapsed": true
   },
   "outputs": [],
   "source": [
    "# Localize datetime to UTC\n",
    "sun['sunrise_utc'] = sun['sunrise_utc'].dt.tz_localize('utc')\n",
    "sun['sunset_utc'] = sun['sunset_utc'].dt.tz_localize('utc')"
   ]
  },
  {
   "cell_type": "code",
   "execution_count": 214,
   "metadata": {
    "collapsed": true
   },
   "outputs": [],
   "source": [
    "# Create US/Mountain datetimes\n",
    "sun['sunrise_local'] = pd.to_datetime(sun.loc[:, 'sunrise_utc']).dt.tz_convert('US/Mountain')\n",
    "sun['sunset_local'] = pd.to_datetime(sun.loc[:, 'sunset_utc']).dt.tz_convert('US/Mountain')"
   ]
  },
  {
   "cell_type": "code",
   "execution_count": 246,
   "metadata": {
    "collapsed": true
   },
   "outputs": [],
   "source": [
    "# Reorder columns\n",
    "sun = sun[['station_id', 'sunrise_local', 'sunset_local', 'sunrise_utc', 'sunset_utc']]"
   ]
  },
  {
   "cell_type": "code",
   "execution_count": 250,
   "metadata": {},
   "outputs": [],
   "source": [
    "# Drop rows which start 2017-06-30\n",
    "sun = sun[sun.sunset_local.dt.month != 6]"
   ]
  },
  {
   "cell_type": "code",
   "execution_count": 254,
   "metadata": {
    "collapsed": true
   },
   "outputs": [],
   "source": [
    "# Reset index\n",
    "sun = sun.reset_index(drop=True)"
   ]
  },
  {
   "cell_type": "code",
   "execution_count": 259,
   "metadata": {},
   "outputs": [
    {
     "data": {
      "text/html": [
       "<div>\n",
       "<style>\n",
       "    .dataframe thead tr:only-child th {\n",
       "        text-align: right;\n",
       "    }\n",
       "\n",
       "    .dataframe thead th {\n",
       "        text-align: left;\n",
       "    }\n",
       "\n",
       "    .dataframe tbody tr th {\n",
       "        vertical-align: top;\n",
       "    }\n",
       "</style>\n",
       "<table border=\"1\" class=\"dataframe\">\n",
       "  <thead>\n",
       "    <tr style=\"text-align: right;\">\n",
       "      <th></th>\n",
       "      <th>station_id</th>\n",
       "      <th>sunrise_local</th>\n",
       "      <th>sunset_local</th>\n",
       "      <th>sunrise_utc</th>\n",
       "      <th>sunset_utc</th>\n",
       "    </tr>\n",
       "  </thead>\n",
       "  <tbody>\n",
       "    <tr>\n",
       "      <th>0</th>\n",
       "      <td>KMTCORVA9</td>\n",
       "      <td>2017-07-01 05:48:49-06:00</td>\n",
       "      <td>2017-07-01 21:31:41-06:00</td>\n",
       "      <td>2017-07-01 11:48:49+00:00</td>\n",
       "      <td>2017-07-02 03:31:41+00:00</td>\n",
       "    </tr>\n",
       "    <tr>\n",
       "      <th>1</th>\n",
       "      <td>KMTCORVA9</td>\n",
       "      <td>2017-07-02 05:49:27-06:00</td>\n",
       "      <td>2017-07-02 21:31:25-06:00</td>\n",
       "      <td>2017-07-02 11:49:27+00:00</td>\n",
       "      <td>2017-07-03 03:31:25+00:00</td>\n",
       "    </tr>\n",
       "  </tbody>\n",
       "</table>\n",
       "</div>"
      ],
      "text/plain": [
       "  station_id             sunrise_local              sunset_local  \\\n",
       "0  KMTCORVA9 2017-07-01 05:48:49-06:00 2017-07-01 21:31:41-06:00   \n",
       "1  KMTCORVA9 2017-07-02 05:49:27-06:00 2017-07-02 21:31:25-06:00   \n",
       "\n",
       "                sunrise_utc                sunset_utc  \n",
       "0 2017-07-01 11:48:49+00:00 2017-07-02 03:31:41+00:00  \n",
       "1 2017-07-02 11:49:27+00:00 2017-07-03 03:31:25+00:00  "
      ]
     },
     "execution_count": 259,
     "metadata": {},
     "output_type": "execute_result"
    }
   ],
   "source": [
    "sun.head(2)"
   ]
  },
  {
   "cell_type": "markdown",
   "metadata": {},
   "source": [
    "# New DataFrame"
   ]
  },
  {
   "cell_type": "code",
   "execution_count": 453,
   "metadata": {
    "collapsed": true
   },
   "outputs": [],
   "source": [
    "# Column names\n",
    "columns = ['date', 'station_id', 'rise_tempi','set_tempi','rise_pressi','set_pressi']"
   ]
  },
  {
   "cell_type": "code",
   "execution_count": 454,
   "metadata": {},
   "outputs": [],
   "source": [
    "calcs = pd.DataFrame(columns=columns)"
   ]
  },
  {
   "cell_type": "markdown",
   "metadata": {},
   "source": [
    "#### Populate with stations and date range"
   ]
  },
  {
   "cell_type": "code",
   "execution_count": 455,
   "metadata": {
    "collapsed": true
   },
   "outputs": [],
   "source": [
    "# Create date range by day\n",
    "start = datetime.date(2017, 7, 1)\n",
    "end = datetime.date(2017, 10, 31)\n",
    "date_index = pd.date_range(start, periods=123, freq='D')"
   ]
  },
  {
   "cell_type": "code",
   "execution_count": 456,
   "metadata": {},
   "outputs": [],
   "source": [
    "# Append days and unique station ids\n",
    "for station in sun.station_id.unique():\n",
    "    for date in date_index:\n",
    "        calcs = calcs.append({'station_id': station, 'date': date.strftime('%Y-%m-%d')},\n",
    "                            ignore_index=True)"
   ]
  },
  {
   "cell_type": "code",
   "execution_count": 459,
   "metadata": {},
   "outputs": [],
   "source": [
    "calcs = calcs.set_index('date')"
   ]
  },
  {
   "cell_type": "code",
   "execution_count": 461,
   "metadata": {},
   "outputs": [
    {
     "name": "stdout",
     "output_type": "stream",
     "text": [
      "<class 'pandas.core.frame.DataFrame'>\n",
      "Index: 4059 entries, 2017-07-01 to 2017-10-31\n",
      "Data columns (total 5 columns):\n",
      "station_id     4059 non-null object\n",
      "rise_tempi     0 non-null object\n",
      "set_tempi      0 non-null object\n",
      "rise_pressi    0 non-null object\n",
      "set_pressi     0 non-null object\n",
      "dtypes: object(5)\n",
      "memory usage: 190.3+ KB\n"
     ]
    }
   ],
   "source": [
    "calcs.info()"
   ]
  },
  {
   "cell_type": "markdown",
   "metadata": {},
   "source": [
    "# Calculations"
   ]
  },
  {
   "cell_type": "markdown",
   "metadata": {},
   "source": [
    "### Column for values at Sunrise and Sunset\n",
    "* 'values' refers to temperature and pressure data\n",
    "* indexed by day\n",
    "* date will go sunrise to sunset\n",
    "* columns = ['rise_tempi','set_tempi','rise_pressurei','set_pressurei']\n",
    "* index = ['2017-07-01', .... '2017-10-31']"
   ]
  },
  {
   "cell_type": "markdown",
   "metadata": {},
   "source": [
    "* Get closest wund.local_date to sun.sunrise_local\n",
    "* [query the closest datetime index](https://stackoverflow.com/questions/42264848/pandas-dataframe-how-to-query-the-closest-datetime-index)"
   ]
  },
  {
   "cell_type": "code",
   "execution_count": 525,
   "metadata": {
    "collapsed": true
   },
   "outputs": [],
   "source": [
    "def find_closest_weather_sample(station, date):\n",
    "    wund_station = wund[wund.station_id == station].copy()\n",
    "    idx = wund_station.index.get_loc(date, method='nearest')\n",
    "    print(station, date)\n",
    "    return wund_station.iloc[idx]"
   ]
  },
  {
   "cell_type": "markdown",
   "metadata": {},
   "source": [
    "### Sunrise/Sunset Temp/Pressure"
   ]
  },
  {
   "cell_type": "code",
   "execution_count": 468,
   "metadata": {},
   "outputs": [
    {
     "data": {
      "text/html": [
       "<div>\n",
       "<style>\n",
       "    .dataframe thead tr:only-child th {\n",
       "        text-align: right;\n",
       "    }\n",
       "\n",
       "    .dataframe thead th {\n",
       "        text-align: left;\n",
       "    }\n",
       "\n",
       "    .dataframe tbody tr th {\n",
       "        vertical-align: top;\n",
       "    }\n",
       "</style>\n",
       "<table border=\"1\" class=\"dataframe\">\n",
       "  <thead>\n",
       "    <tr style=\"text-align: right;\">\n",
       "      <th></th>\n",
       "      <th>station_id</th>\n",
       "      <th>pressi</th>\n",
       "      <th>pressm</th>\n",
       "      <th>tempi</th>\n",
       "      <th>tempm</th>\n",
       "      <th>utc_date</th>\n",
       "    </tr>\n",
       "    <tr>\n",
       "      <th>local_date</th>\n",
       "      <th></th>\n",
       "      <th></th>\n",
       "      <th></th>\n",
       "      <th></th>\n",
       "      <th></th>\n",
       "      <th></th>\n",
       "    </tr>\n",
       "  </thead>\n",
       "  <tbody>\n",
       "    <tr>\n",
       "      <th>2017-07-01 00:12:00-06:00</th>\n",
       "      <td>KMTCORVA9</td>\n",
       "      <td>26.0</td>\n",
       "      <td>880.4</td>\n",
       "      <td>58.8</td>\n",
       "      <td>14.9</td>\n",
       "      <td>2017-07-01 06:12:00+00:00</td>\n",
       "    </tr>\n",
       "  </tbody>\n",
       "</table>\n",
       "</div>"
      ],
      "text/plain": [
       "                          station_id  pressi  pressm  tempi  tempm  \\\n",
       "local_date                                                           \n",
       "2017-07-01 00:12:00-06:00  KMTCORVA9    26.0   880.4   58.8   14.9   \n",
       "\n",
       "                                           utc_date  \n",
       "local_date                                           \n",
       "2017-07-01 00:12:00-06:00 2017-07-01 06:12:00+00:00  "
      ]
     },
     "execution_count": 468,
     "metadata": {},
     "output_type": "execute_result"
    }
   ],
   "source": [
    "wund.head(1)"
   ]
  },
  {
   "cell_type": "code",
   "execution_count": 462,
   "metadata": {},
   "outputs": [
    {
     "data": {
      "text/html": [
       "<div>\n",
       "<style>\n",
       "    .dataframe thead tr:only-child th {\n",
       "        text-align: right;\n",
       "    }\n",
       "\n",
       "    .dataframe thead th {\n",
       "        text-align: left;\n",
       "    }\n",
       "\n",
       "    .dataframe tbody tr th {\n",
       "        vertical-align: top;\n",
       "    }\n",
       "</style>\n",
       "<table border=\"1\" class=\"dataframe\">\n",
       "  <thead>\n",
       "    <tr style=\"text-align: right;\">\n",
       "      <th></th>\n",
       "      <th>station_id</th>\n",
       "      <th>rise_tempi</th>\n",
       "      <th>set_tempi</th>\n",
       "      <th>rise_pressi</th>\n",
       "      <th>set_pressi</th>\n",
       "    </tr>\n",
       "    <tr>\n",
       "      <th>date</th>\n",
       "      <th></th>\n",
       "      <th></th>\n",
       "      <th></th>\n",
       "      <th></th>\n",
       "      <th></th>\n",
       "    </tr>\n",
       "  </thead>\n",
       "  <tbody>\n",
       "    <tr>\n",
       "      <th>2017-07-01</th>\n",
       "      <td>KMTCORVA9</td>\n",
       "      <td>NaN</td>\n",
       "      <td>NaN</td>\n",
       "      <td>NaN</td>\n",
       "      <td>NaN</td>\n",
       "    </tr>\n",
       "  </tbody>\n",
       "</table>\n",
       "</div>"
      ],
      "text/plain": [
       "           station_id rise_tempi set_tempi rise_pressi set_pressi\n",
       "date                                                             \n",
       "2017-07-01  KMTCORVA9        NaN       NaN         NaN        NaN"
      ]
     },
     "execution_count": 462,
     "metadata": {},
     "output_type": "execute_result"
    }
   ],
   "source": [
    "calcs.head(1)"
   ]
  },
  {
   "cell_type": "code",
   "execution_count": 487,
   "metadata": {},
   "outputs": [
    {
     "name": "stdout",
     "output_type": "stream",
     "text": [
      "<class 'pandas.core.frame.DataFrame'>\n",
      "DatetimeIndex: 727764 entries, 2017-07-01 00:12:00-06:00 to 2017-10-31 23:56:00-06:00\n",
      "Data columns (total 6 columns):\n",
      "station_id    727764 non-null object\n",
      "pressi        727764 non-null float64\n",
      "pressm        727764 non-null float64\n",
      "tempi         727764 non-null float64\n",
      "tempm         727764 non-null float64\n",
      "utc_date      727764 non-null datetime64[ns, UTC]\n",
      "dtypes: datetime64[ns, UTC](1), float64(4), object(1)\n",
      "memory usage: 38.9+ MB\n"
     ]
    }
   ],
   "source": [
    "wund.info()"
   ]
  },
  {
   "cell_type": "code",
   "execution_count": 484,
   "metadata": {},
   "outputs": [
    {
     "name": "stdout",
     "output_type": "stream",
     "text": [
      "idx: 32685\n",
      "2017-10-30\n",
      "**********************************************\n",
      "* KMTVICTO9\n",
      "Sunrise: 2017-10-30 08:16:52-06:00 \n",
      "\n",
      "* Nearest Weather Sample Datetime:\n",
      "station_id                   KMTCORVA10\n",
      "pressi                            30.15\n",
      "pressm                           1020.9\n",
      "tempi                              55.4\n",
      "tempm                                13\n",
      "utc_date      2017-09-16 21:32:00+00:00\n",
      "Name: 2017-09-16 15:32:00-06:00, dtype: object\n",
      "rise_temp : 55.4\n",
      "rise_press: 30.15\n",
      "**********************************************\n",
      "\n",
      "\n",
      "idx: 32949\n",
      "2017-10-31\n",
      "**********************************************\n",
      "* KMTVICTO9\n",
      "Sunrise: 2017-10-31 08:18:19-06:00 \n",
      "\n",
      "* Nearest Weather Sample Datetime:\n",
      "station_id                   KMTCORVA10\n",
      "pressi                            29.93\n",
      "pressm                           1013.4\n",
      "tempi                              64.8\n",
      "tempm                              18.2\n",
      "utc_date      2017-09-17 19:52:00+00:00\n",
      "Name: 2017-09-17 13:52:00-06:00, dtype: object\n",
      "rise_temp : 64.8\n",
      "rise_press: 29.93\n",
      "**********************************************\n",
      "\n",
      "\n"
     ]
    }
   ],
   "source": [
    "# Find weather samples for sunset and sunrise\n",
    "for row in sun.tail(2).iterrows():\n",
    "    station_id = row[1]['station_id']\n",
    "    sunrise_local = row[1]['sunrise_local']\n",
    "    sunset_local = row[1]['sunset_local']\n",
    "    idx = find_closest_weather_sample(station_id, sunrise_local)\n",
    "    wund_sample = wund.iloc[find_closest_weather_sample(station_id, sunrise_local)]\n",
    "    wund_rise_temp = wund_sample.tempi\n",
    "    wund_rise_press = wund_sample.pressi\n",
    "    \n",
    "    print('idx:', idx)\n",
    "    print(sunrise_local.strftime('%Y-%m-%d'))\n",
    "    print('**********************************************')\n",
    "    print('*', station_id)\n",
    "    print('Sunrise:', sunrise_local, '\\n')\n",
    "    \n",
    "    print('* Nearest Weather Sample Datetime:')\n",
    "    print(wund_sample)\n",
    "    print('rise_temp :', wund_rise_temp)\n",
    "    print('rise_press:', wund_rise_press)\n",
    "    \n",
    "    print('**********************************************')\n",
    "    print('\\n')"
   ]
  },
  {
   "cell_type": "markdown",
   "metadata": {},
   "source": [
    "### Difference sunset, sunrise values"
   ]
  },
  {
   "cell_type": "code",
   "execution_count": null,
   "metadata": {
    "collapsed": true
   },
   "outputs": [],
   "source": []
  },
  {
   "cell_type": "markdown",
   "metadata": {},
   "source": [
    "### Difference sunrise, sunset values"
   ]
  },
  {
   "cell_type": "code",
   "execution_count": null,
   "metadata": {
    "collapsed": true
   },
   "outputs": [],
   "source": []
  },
  {
   "cell_type": "markdown",
   "metadata": {},
   "source": [
    "### Max, min, ave : sunset to sunrise : sunrise to sunset"
   ]
  },
  {
   "cell_type": "code",
   "execution_count": null,
   "metadata": {
    "collapsed": true
   },
   "outputs": [],
   "source": []
  },
  {
   "cell_type": "markdown",
   "metadata": {},
   "source": [
    "### Difference max, min, ave sunset to sunrise : sunrise to sunset"
   ]
  },
  {
   "cell_type": "code",
   "execution_count": null,
   "metadata": {
    "collapsed": true
   },
   "outputs": [],
   "source": []
  },
  {
   "cell_type": "code",
   "execution_count": null,
   "metadata": {
    "collapsed": true
   },
   "outputs": [],
   "source": []
  },
  {
   "cell_type": "code",
   "execution_count": null,
   "metadata": {
    "collapsed": true
   },
   "outputs": [],
   "source": []
  },
  {
   "cell_type": "markdown",
   "metadata": {},
   "source": [
    "### Scratch"
   ]
  },
  {
   "cell_type": "code",
   "execution_count": 335,
   "metadata": {
    "collapsed": true
   },
   "outputs": [],
   "source": [
    "start = datetime.date(2017, 7, 1)\n",
    "end = datetime.date(2017, 10, 31)"
   ]
  },
  {
   "cell_type": "code",
   "execution_count": 334,
   "metadata": {},
   "outputs": [
    {
     "data": {
      "text/plain": [
       "datetime.date(2017, 7, 1)"
      ]
     },
     "execution_count": 334,
     "metadata": {},
     "output_type": "execute_result"
    }
   ],
   "source": [
    "start"
   ]
  },
  {
   "cell_type": "code",
   "execution_count": 345,
   "metadata": {},
   "outputs": [],
   "source": [
    "date_index = pd.date_range(start, periods=123, freq='D')"
   ]
  },
  {
   "cell_type": "code",
   "execution_count": 348,
   "metadata": {
    "collapsed": true
   },
   "outputs": [],
   "source": [
    "test = pd.DataFrame(index=index, columns=columns)"
   ]
  },
  {
   "cell_type": "code",
   "execution_count": 346,
   "metadata": {},
   "outputs": [
    {
     "data": {
      "text/plain": [
       "DatetimeIndex(['2017-07-01', '2017-07-02', '2017-07-03', '2017-07-04',\n",
       "               '2017-07-05', '2017-07-06', '2017-07-07', '2017-07-08',\n",
       "               '2017-07-09', '2017-07-10',\n",
       "               ...\n",
       "               '2017-10-22', '2017-10-23', '2017-10-24', '2017-10-25',\n",
       "               '2017-10-26', '2017-10-27', '2017-10-28', '2017-10-29',\n",
       "               '2017-10-30', '2017-10-31'],\n",
       "              dtype='datetime64[ns]', length=123, freq='D')"
      ]
     },
     "execution_count": 346,
     "metadata": {},
     "output_type": "execute_result"
    }
   ],
   "source": [
    "index"
   ]
  },
  {
   "cell_type": "code",
   "execution_count": 347,
   "metadata": {
    "collapsed": true
   },
   "outputs": [],
   "source": [
    "columns = ['x','y','z']"
   ]
  },
  {
   "cell_type": "code",
   "execution_count": 350,
   "metadata": {},
   "outputs": [
    {
     "name": "stdout",
     "output_type": "stream",
     "text": [
      "<class 'pandas.core.frame.DataFrame'>\n",
      "DatetimeIndex: 123 entries, 2017-07-01 to 2017-10-31\n",
      "Freq: D\n",
      "Data columns (total 3 columns):\n",
      "x    0 non-null object\n",
      "y    0 non-null object\n",
      "z    0 non-null object\n",
      "dtypes: object(3)\n",
      "memory usage: 3.8+ KB\n"
     ]
    }
   ],
   "source": [
    "test.info()"
   ]
  },
  {
   "cell_type": "code",
   "execution_count": null,
   "metadata": {
    "collapsed": true
   },
   "outputs": [],
   "source": []
  }
 ],
 "metadata": {
  "kernelspec": {
   "display_name": "Python 3",
   "language": "python",
   "name": "python3"
  },
  "language_info": {
   "codemirror_mode": {
    "name": "ipython",
    "version": 3
   },
   "file_extension": ".py",
   "mimetype": "text/x-python",
   "name": "python",
   "nbconvert_exporter": "python",
   "pygments_lexer": "ipython3",
   "version": "3.6.3"
  }
 },
 "nbformat": 4,
 "nbformat_minor": 2
}
