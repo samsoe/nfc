{
 "cells": [
  {
   "cell_type": "markdown",
   "metadata": {},
   "source": [
    "For each 24 hour day (midnight tomidnight) we'd like to know the following:\n",
    "* Temperature and barometric pressure values at sunrise and sunset\n",
    "* Difference between temp and pressure at sunrise and sunset\n",
    "* Maximum, minimum and averages for temp and pressure for both of the time frames of sunset to sunrise and sunrise to sunset\n",
    "* Differences between the max, min and average for both of these time frames."
   ]
  },
  {
   "cell_type": "markdown",
   "metadata": {},
   "source": [
    "\n",
    "# Load libraries"
   ]
  },
  {
   "cell_type": "code",
   "execution_count": 1,
   "metadata": {
    "collapsed": true
   },
   "outputs": [],
   "source": [
    "# pandas for data structure\n",
    "import pandas as pd"
   ]
  },
  {
   "cell_type": "markdown",
   "metadata": {},
   "source": [
    "# Load data"
   ]
  },
  {
   "cell_type": "markdown",
   "metadata": {},
   "source": [
    "#### Weather Data"
   ]
  },
  {
   "cell_type": "markdown",
   "metadata": {},
   "source": [
    "* data collected from [Wunderground](https://www.wunderground.com/weather/api/)\n",
    "* hosted file: [Google Drive](https://drive.google.com/file/d/1eS0gGM14g7iFulUeqz3XwbKb5OtK9aSI/view)"
   ]
  },
  {
   "cell_type": "code",
   "execution_count": 58,
   "metadata": {
    "collapsed": true
   },
   "outputs": [],
   "source": [
    "# local file\n",
    "filename_wunderground = '../data/wunderground-170701_171101-day_night.csv'"
   ]
  },
  {
   "cell_type": "code",
   "execution_count": 62,
   "metadata": {
    "collapsed": true
   },
   "outputs": [],
   "source": [
    "# load data into dataframes\n",
    "wund = pd.read_csv(filename_wunderground, parse_dates=['utc_date'])"
   ]
  },
  {
   "cell_type": "code",
   "execution_count": 68,
   "metadata": {},
   "outputs": [],
   "source": [
    "wund['utc_date'] = wund['utc_date'].dt.tz_localize('utc')"
   ]
  },
  {
   "cell_type": "code",
   "execution_count": 71,
   "metadata": {},
   "outputs": [],
   "source": [
    "# localize datetime make local_date column\n",
    "wund['local_date'] = pd.to_datetime(wund.loc[:, 'utc_date']).dt.tz_convert('US/Mountain')"
   ]
  },
  {
   "cell_type": "code",
   "execution_count": 76,
   "metadata": {},
   "outputs": [],
   "source": [
    "wund = wund[['local_date' , 'utc_date', 'station_id','pressurei', 'pressurem', 'tempi', 'tempm']]"
   ]
  },
  {
   "cell_type": "code",
   "execution_count": 77,
   "metadata": {},
   "outputs": [
    {
     "name": "stdout",
     "output_type": "stream",
     "text": [
      "<class 'pandas.core.frame.DataFrame'>\n",
      "RangeIndex: 727764 entries, 0 to 727763\n",
      "Data columns (total 7 columns):\n",
      "local_date    727764 non-null datetime64[ns, US/Mountain]\n",
      "utc_date      727764 non-null datetime64[ns, UTC]\n",
      "station_id    727764 non-null object\n",
      "pressurei     727764 non-null float64\n",
      "pressurem     727764 non-null float64\n",
      "tempi         727764 non-null float64\n",
      "tempm         727764 non-null float64\n",
      "dtypes: datetime64[ns, US/Mountain](1), datetime64[ns, UTC](1), float64(4), object(1)\n",
      "memory usage: 38.9+ MB\n"
     ]
    }
   ],
   "source": [
    "wund.info()"
   ]
  },
  {
   "cell_type": "code",
   "execution_count": 119,
   "metadata": {},
   "outputs": [
    {
     "data": {
      "text/html": [
       "<div>\n",
       "<style>\n",
       "    .dataframe thead tr:only-child th {\n",
       "        text-align: right;\n",
       "    }\n",
       "\n",
       "    .dataframe thead th {\n",
       "        text-align: left;\n",
       "    }\n",
       "\n",
       "    .dataframe tbody tr th {\n",
       "        vertical-align: top;\n",
       "    }\n",
       "</style>\n",
       "<table border=\"1\" class=\"dataframe\">\n",
       "  <thead>\n",
       "    <tr style=\"text-align: right;\">\n",
       "      <th></th>\n",
       "      <th>local_date</th>\n",
       "      <th>utc_date</th>\n",
       "      <th>station_id</th>\n",
       "      <th>pressurei</th>\n",
       "      <th>pressurem</th>\n",
       "      <th>tempi</th>\n",
       "      <th>tempm</th>\n",
       "    </tr>\n",
       "  </thead>\n",
       "  <tbody>\n",
       "    <tr>\n",
       "      <th>0</th>\n",
       "      <td>2017-07-01 00:12:00-06:00</td>\n",
       "      <td>2017-07-01 06:12:00+00:00</td>\n",
       "      <td>KMTCORVA9</td>\n",
       "      <td>26.0</td>\n",
       "      <td>880.4</td>\n",
       "      <td>58.8</td>\n",
       "      <td>14.9</td>\n",
       "    </tr>\n",
       "    <tr>\n",
       "      <th>1</th>\n",
       "      <td>2017-07-01 00:28:00-06:00</td>\n",
       "      <td>2017-07-01 06:28:00+00:00</td>\n",
       "      <td>KMTCORVA9</td>\n",
       "      <td>26.0</td>\n",
       "      <td>880.4</td>\n",
       "      <td>59.0</td>\n",
       "      <td>15.0</td>\n",
       "    </tr>\n",
       "  </tbody>\n",
       "</table>\n",
       "</div>"
      ],
      "text/plain": [
       "                 local_date                  utc_date station_id  pressurei  \\\n",
       "0 2017-07-01 00:12:00-06:00 2017-07-01 06:12:00+00:00  KMTCORVA9       26.0   \n",
       "1 2017-07-01 00:28:00-06:00 2017-07-01 06:28:00+00:00  KMTCORVA9       26.0   \n",
       "\n",
       "   pressurem  tempi  tempm  \n",
       "0      880.4   58.8   14.9  \n",
       "1      880.4   59.0   15.0  "
      ]
     },
     "execution_count": 119,
     "metadata": {},
     "output_type": "execute_result"
    }
   ],
   "source": [
    "wund.head(2)"
   ]
  },
  {
   "cell_type": "markdown",
   "metadata": {},
   "source": [
    "#### Sunset Sunrise Data"
   ]
  },
  {
   "cell_type": "code",
   "execution_count": 108,
   "metadata": {
    "scrolled": true
   },
   "outputs": [],
   "source": [
    "# Load Sunset Sunrise data\n",
    "sun_filename = '../data/sunrise_sunset-wunderground-utc.csv'\n",
    "sun = pd.read_csv(sun_filename, parse_dates=['sunrise', 'sunset'])"
   ]
  },
  {
   "cell_type": "code",
   "execution_count": 109,
   "metadata": {
    "collapsed": true
   },
   "outputs": [],
   "source": [
    "# Select a subset of loaded DataFrame\n",
    "sun = sun[['sunrise', 'sunset']]"
   ]
  },
  {
   "cell_type": "code",
   "execution_count": 110,
   "metadata": {
    "collapsed": true
   },
   "outputs": [],
   "source": [
    "# Rename columns\n",
    "sun.columns = ['sunrise_utc', 'sunset_utc']"
   ]
  },
  {
   "cell_type": "code",
   "execution_count": 111,
   "metadata": {},
   "outputs": [],
   "source": [
    "# Localize datetime to UTC\n",
    "sun['sunrise_utc'] = sun['sunrise_utc'].dt.tz_localize('utc')\n",
    "sun['sunset_utc'] = sun['sunset_utc'].dt.tz_localize('utc')"
   ]
  },
  {
   "cell_type": "code",
   "execution_count": 114,
   "metadata": {},
   "outputs": [],
   "source": [
    "# Create US/Mountain datetimes\n",
    "sun['sunrise_local'] = pd.to_datetime(sun.loc[:, 'sunrise_utc']).dt.tz_convert('US/Mountain')\n",
    "sun['sunset_local'] = pd.to_datetime(sun.loc[:, 'sunset_utc']).dt.tz_convert('US/Mountain')"
   ]
  },
  {
   "cell_type": "code",
   "execution_count": 117,
   "metadata": {},
   "outputs": [],
   "source": [
    "sun = sun[['sunrise_local', 'sunset_local', 'sunrise_utc', 'sunset_utc']]"
   ]
  },
  {
   "cell_type": "code",
   "execution_count": 118,
   "metadata": {},
   "outputs": [
    {
     "data": {
      "text/html": [
       "<div>\n",
       "<style>\n",
       "    .dataframe thead tr:only-child th {\n",
       "        text-align: right;\n",
       "    }\n",
       "\n",
       "    .dataframe thead th {\n",
       "        text-align: left;\n",
       "    }\n",
       "\n",
       "    .dataframe tbody tr th {\n",
       "        vertical-align: top;\n",
       "    }\n",
       "</style>\n",
       "<table border=\"1\" class=\"dataframe\">\n",
       "  <thead>\n",
       "    <tr style=\"text-align: right;\">\n",
       "      <th></th>\n",
       "      <th>sunrise_local</th>\n",
       "      <th>sunset_local</th>\n",
       "      <th>sunrise_utc</th>\n",
       "      <th>sunset_utc</th>\n",
       "    </tr>\n",
       "  </thead>\n",
       "  <tbody>\n",
       "    <tr>\n",
       "      <th>0</th>\n",
       "      <td>2017-06-30 05:48:13-06:00</td>\n",
       "      <td>2017-06-30 21:31:54-06:00</td>\n",
       "      <td>2017-06-30 11:48:13+00:00</td>\n",
       "      <td>2017-07-01 03:31:54+00:00</td>\n",
       "    </tr>\n",
       "    <tr>\n",
       "      <th>1</th>\n",
       "      <td>2017-07-01 05:48:49-06:00</td>\n",
       "      <td>2017-07-01 21:31:41-06:00</td>\n",
       "      <td>2017-07-01 11:48:49+00:00</td>\n",
       "      <td>2017-07-02 03:31:41+00:00</td>\n",
       "    </tr>\n",
       "  </tbody>\n",
       "</table>\n",
       "</div>"
      ],
      "text/plain": [
       "              sunrise_local              sunset_local  \\\n",
       "0 2017-06-30 05:48:13-06:00 2017-06-30 21:31:54-06:00   \n",
       "1 2017-07-01 05:48:49-06:00 2017-07-01 21:31:41-06:00   \n",
       "\n",
       "                sunrise_utc                sunset_utc  \n",
       "0 2017-06-30 11:48:13+00:00 2017-07-01 03:31:54+00:00  \n",
       "1 2017-07-01 11:48:49+00:00 2017-07-02 03:31:41+00:00  "
      ]
     },
     "execution_count": 118,
     "metadata": {},
     "output_type": "execute_result"
    }
   ],
   "source": [
    "sun.head(2)"
   ]
  },
  {
   "cell_type": "markdown",
   "metadata": {},
   "source": [
    "*add local time column*"
   ]
  },
  {
   "cell_type": "markdown",
   "metadata": {},
   "source": [
    "# New DataFrame"
   ]
  },
  {
   "cell_type": "markdown",
   "metadata": {},
   "source": [
    "### Column for values at Sunrise and Sunset\n",
    "* 'values' refers to temperature and pressure data\n",
    "* indexed by day\n",
    "* date will go sunrise to sunset\n",
    "* columns = ['rise_tempi','set_tempi','rise_pressurei','set_pressurei']\n",
    "* index = ['2017-07-01', .... '2017-10-31']"
   ]
  },
  {
   "cell_type": "markdown",
   "metadata": {},
   "source": [
    "* Get closest wund.local_date to sun.sunrise_local\n",
    "* [query the closest datetime index](https://stackoverflow.com/questions/42264848/pandas-dataframe-how-to-query-the-closest-datetime-index)"
   ]
  },
  {
   "cell_type": "code",
   "execution_count": null,
   "metadata": {
    "collapsed": true
   },
   "outputs": [],
   "source": []
  },
  {
   "cell_type": "code",
   "execution_count": null,
   "metadata": {
    "collapsed": true
   },
   "outputs": [],
   "source": []
  },
  {
   "cell_type": "code",
   "execution_count": null,
   "metadata": {
    "collapsed": true
   },
   "outputs": [],
   "source": []
  },
  {
   "cell_type": "markdown",
   "metadata": {},
   "source": [
    "### Difference sunset, sunrise values"
   ]
  },
  {
   "cell_type": "code",
   "execution_count": null,
   "metadata": {
    "collapsed": true
   },
   "outputs": [],
   "source": []
  },
  {
   "cell_type": "markdown",
   "metadata": {},
   "source": [
    "### Max, min, ave : sunset to sunrise : sunrise to sunset"
   ]
  },
  {
   "cell_type": "code",
   "execution_count": null,
   "metadata": {
    "collapsed": true
   },
   "outputs": [],
   "source": []
  },
  {
   "cell_type": "markdown",
   "metadata": {},
   "source": [
    "### Difference max, min, ave sunset to sunrise : sunrise to sunset"
   ]
  },
  {
   "cell_type": "code",
   "execution_count": null,
   "metadata": {
    "collapsed": true
   },
   "outputs": [],
   "source": []
  },
  {
   "cell_type": "code",
   "execution_count": null,
   "metadata": {
    "collapsed": true
   },
   "outputs": [],
   "source": []
  },
  {
   "cell_type": "code",
   "execution_count": null,
   "metadata": {
    "collapsed": true
   },
   "outputs": [],
   "source": []
  },
  {
   "cell_type": "markdown",
   "metadata": {},
   "source": [
    "### Scratch"
   ]
  },
  {
   "cell_type": "code",
   "execution_count": 21,
   "metadata": {
    "collapsed": true
   },
   "outputs": [],
   "source": [
    "col = ['astronomical_twilight_begin','astronomical_twilight_end','civil_twilight_begin',\n",
    "       'civil_twilight_end','date','day_length','nautical_twilight_begin','nautical_twilight_end',\n",
    "       'solar_noon','station_id','sunrise','sunset']"
   ]
  }
 ],
 "metadata": {
  "kernelspec": {
   "display_name": "Python 3",
   "language": "python",
   "name": "python3"
  },
  "language_info": {
   "codemirror_mode": {
    "name": "ipython",
    "version": 3
   },
   "file_extension": ".py",
   "mimetype": "text/x-python",
   "name": "python",
   "nbconvert_exporter": "python",
   "pygments_lexer": "ipython3",
   "version": "3.6.3"
  }
 },
 "nbformat": 4,
 "nbformat_minor": 2
}
