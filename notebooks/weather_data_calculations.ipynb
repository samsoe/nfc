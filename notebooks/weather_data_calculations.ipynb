{
 "cells": [
  {
   "cell_type": "markdown",
   "metadata": {},
   "source": [
    "For each 24 hour day (midnight tomidnight) we'd like to know the following:\n",
    "* Temperature and barometric pressure values at sunrise and sunset\n",
    "* Difference between temp and pressure at sunrise and sunset\n",
    "* Maximum, minimum and averages for temp and pressure for both of the time frames of sunset to sunrise and sunrise to sunset\n",
    "* Differences between the max, min and average for both of these time frames."
   ]
  },
  {
   "cell_type": "markdown",
   "metadata": {},
   "source": [
    "\n",
    "# Load libraries"
   ]
  },
  {
   "cell_type": "code",
   "execution_count": 1,
   "metadata": {
    "collapsed": true
   },
   "outputs": [],
   "source": [
    "# pandas for data structure\n",
    "import pandas as pd"
   ]
  },
  {
   "cell_type": "markdown",
   "metadata": {},
   "source": [
    "# Load data"
   ]
  },
  {
   "cell_type": "markdown",
   "metadata": {},
   "source": [
    "#### Weather Data"
   ]
  },
  {
   "cell_type": "markdown",
   "metadata": {},
   "source": [
    "* data collected from [Wunderground](https://www.wunderground.com/weather/api/)\n",
    "* hosted file: [Google Drive](https://drive.google.com/file/d/1eS0gGM14g7iFulUeqz3XwbKb5OtK9aSI/view)"
   ]
  },
  {
   "cell_type": "code",
   "execution_count": 5,
   "metadata": {
    "collapsed": true
   },
   "outputs": [],
   "source": [
    "# local file\n",
    "filename_wunderground = '../data/wunderground-170701_171101-day_night.csv'"
   ]
  },
  {
   "cell_type": "code",
   "execution_count": 6,
   "metadata": {
    "collapsed": true
   },
   "outputs": [],
   "source": [
    "# load data into dataframes\n",
    "wund = pd.read_csv(filename_wunderground)"
   ]
  },
  {
   "cell_type": "code",
   "execution_count": 29,
   "metadata": {},
   "outputs": [
    {
     "data": {
      "text/plain": [
       "Index(['utc_date', 'station_id', 'dewpti', 'dewptm', 'heatindexi',\n",
       "       'heatindexm', 'hum', 'precip_ratei', 'precip_ratem', 'precip_totali',\n",
       "       'precip_totalm', 'pressurei', 'pressurem', 'tempi', 'tempm', 'wdird',\n",
       "       'wdire', 'wgusti', 'wgustm', 'windchilli', 'windchillm', 'wspdi',\n",
       "       'wspdm'],\n",
       "      dtype='object')"
      ]
     },
     "execution_count": 29,
     "metadata": {},
     "output_type": "execute_result"
    }
   ],
   "source": [
    "wund.columns"
   ]
  },
  {
   "cell_type": "code",
   "execution_count": 33,
   "metadata": {},
   "outputs": [
    {
     "data": {
      "text/html": [
       "<div>\n",
       "<style>\n",
       "    .dataframe thead tr:only-child th {\n",
       "        text-align: right;\n",
       "    }\n",
       "\n",
       "    .dataframe thead th {\n",
       "        text-align: left;\n",
       "    }\n",
       "\n",
       "    .dataframe tbody tr th {\n",
       "        vertical-align: top;\n",
       "    }\n",
       "</style>\n",
       "<table border=\"1\" class=\"dataframe\">\n",
       "  <thead>\n",
       "    <tr style=\"text-align: right;\">\n",
       "      <th></th>\n",
       "      <th>utc_date</th>\n",
       "      <th>station_id</th>\n",
       "      <th>dewpti</th>\n",
       "      <th>dewptm</th>\n",
       "      <th>heatindexi</th>\n",
       "      <th>heatindexm</th>\n",
       "      <th>hum</th>\n",
       "      <th>precip_ratei</th>\n",
       "      <th>precip_ratem</th>\n",
       "      <th>precip_totali</th>\n",
       "      <th>...</th>\n",
       "      <th>tempi</th>\n",
       "      <th>tempm</th>\n",
       "      <th>wdird</th>\n",
       "      <th>wdire</th>\n",
       "      <th>wgusti</th>\n",
       "      <th>wgustm</th>\n",
       "      <th>windchilli</th>\n",
       "      <th>windchillm</th>\n",
       "      <th>wspdi</th>\n",
       "      <th>wspdm</th>\n",
       "    </tr>\n",
       "  </thead>\n",
       "  <tbody>\n",
       "    <tr>\n",
       "      <th>727762</th>\n",
       "      <td>2017-11-01 05:51:00</td>\n",
       "      <td>KMTVICTO9</td>\n",
       "      <td>13.5</td>\n",
       "      <td>-10.3</td>\n",
       "      <td>-9999.0</td>\n",
       "      <td>-9999.0</td>\n",
       "      <td>22</td>\n",
       "      <td>0.0</td>\n",
       "      <td>0.0</td>\n",
       "      <td>0.0</td>\n",
       "      <td>...</td>\n",
       "      <td>50.9</td>\n",
       "      <td>10.5</td>\n",
       "      <td>0</td>\n",
       "      <td>North</td>\n",
       "      <td>5.4</td>\n",
       "      <td>8.7</td>\n",
       "      <td>-999.0</td>\n",
       "      <td>-999.0</td>\n",
       "      <td>1.3</td>\n",
       "      <td>2.1</td>\n",
       "    </tr>\n",
       "    <tr>\n",
       "      <th>727763</th>\n",
       "      <td>2017-11-01 05:56:00</td>\n",
       "      <td>KMTVICTO9</td>\n",
       "      <td>13.1</td>\n",
       "      <td>-10.5</td>\n",
       "      <td>-9999.0</td>\n",
       "      <td>-9999.0</td>\n",
       "      <td>22</td>\n",
       "      <td>0.0</td>\n",
       "      <td>0.0</td>\n",
       "      <td>0.0</td>\n",
       "      <td>...</td>\n",
       "      <td>50.5</td>\n",
       "      <td>10.3</td>\n",
       "      <td>0</td>\n",
       "      <td>North</td>\n",
       "      <td>4.0</td>\n",
       "      <td>6.4</td>\n",
       "      <td>-999.0</td>\n",
       "      <td>-999.0</td>\n",
       "      <td>1.3</td>\n",
       "      <td>2.1</td>\n",
       "    </tr>\n",
       "  </tbody>\n",
       "</table>\n",
       "<p>2 rows × 23 columns</p>\n",
       "</div>"
      ],
      "text/plain": [
       "                   utc_date station_id  dewpti  dewptm  heatindexi  \\\n",
       "727762  2017-11-01 05:51:00  KMTVICTO9    13.5   -10.3     -9999.0   \n",
       "727763  2017-11-01 05:56:00  KMTVICTO9    13.1   -10.5     -9999.0   \n",
       "\n",
       "        heatindexm  hum  precip_ratei  precip_ratem  precip_totali  ...    \\\n",
       "727762     -9999.0   22           0.0           0.0            0.0  ...     \n",
       "727763     -9999.0   22           0.0           0.0            0.0  ...     \n",
       "\n",
       "        tempi  tempm  wdird  wdire  wgusti  wgustm windchilli  windchillm  \\\n",
       "727762   50.9   10.5      0  North     5.4     8.7     -999.0      -999.0   \n",
       "727763   50.5   10.3      0  North     4.0     6.4     -999.0      -999.0   \n",
       "\n",
       "        wspdi  wspdm  \n",
       "727762    1.3    2.1  \n",
       "727763    1.3    2.1  \n",
       "\n",
       "[2 rows x 23 columns]"
      ]
     },
     "execution_count": 33,
     "metadata": {},
     "output_type": "execute_result"
    }
   ],
   "source": [
    "wund.tail(2)"
   ]
  },
  {
   "cell_type": "markdown",
   "metadata": {},
   "source": [
    "#### Sunset Sunrise Data"
   ]
  },
  {
   "cell_type": "code",
   "execution_count": 25,
   "metadata": {
    "scrolled": true
   },
   "outputs": [],
   "source": [
    "# Load Sunset Sunrise data\n",
    "sun_filename = '../data/sunrise_sunset-wunderground-utc.csv'\n",
    "sun = pd.read_csv(sun_filename)"
   ]
  },
  {
   "cell_type": "code",
   "execution_count": 28,
   "metadata": {},
   "outputs": [
    {
     "data": {
      "text/plain": [
       "Index(['astronomical_twilight_begin', 'astronomical_twilight_end',\n",
       "       'civil_twilight_begin', 'civil_twilight_end', 'date', 'day_length',\n",
       "       'nautical_twilight_begin', 'nautical_twilight_end', 'solar_noon',\n",
       "       'station_id', 'sunrise', 'sunset'],\n",
       "      dtype='object')"
      ]
     },
     "execution_count": 28,
     "metadata": {},
     "output_type": "execute_result"
    }
   ],
   "source": [
    "sun.columns"
   ]
  },
  {
   "cell_type": "code",
   "execution_count": 34,
   "metadata": {},
   "outputs": [
    {
     "data": {
      "text/html": [
       "<div>\n",
       "<style>\n",
       "    .dataframe thead tr:only-child th {\n",
       "        text-align: right;\n",
       "    }\n",
       "\n",
       "    .dataframe thead th {\n",
       "        text-align: left;\n",
       "    }\n",
       "\n",
       "    .dataframe tbody tr th {\n",
       "        vertical-align: top;\n",
       "    }\n",
       "</style>\n",
       "<table border=\"1\" class=\"dataframe\">\n",
       "  <thead>\n",
       "    <tr style=\"text-align: right;\">\n",
       "      <th></th>\n",
       "      <th>astronomical_twilight_begin</th>\n",
       "      <th>astronomical_twilight_end</th>\n",
       "      <th>civil_twilight_begin</th>\n",
       "      <th>civil_twilight_end</th>\n",
       "      <th>date</th>\n",
       "      <th>day_length</th>\n",
       "      <th>nautical_twilight_begin</th>\n",
       "      <th>nautical_twilight_end</th>\n",
       "      <th>solar_noon</th>\n",
       "      <th>station_id</th>\n",
       "      <th>sunrise</th>\n",
       "      <th>sunset</th>\n",
       "    </tr>\n",
       "  </thead>\n",
       "  <tbody>\n",
       "    <tr>\n",
       "      <th>0</th>\n",
       "      <td>2017-06-30T09:05:17+00:00</td>\n",
       "      <td>2017-07-01T06:14:50+00:00</td>\n",
       "      <td>2017-06-30T11:09:41+00:00</td>\n",
       "      <td>2017-07-01T04:10:26+00:00</td>\n",
       "      <td>2017-06-30</td>\n",
       "      <td>56621</td>\n",
       "      <td>2017-06-30T10:17:42+00:00</td>\n",
       "      <td>2017-07-01T05:02:26+00:00</td>\n",
       "      <td>2017-06-30T19:40:04+00:00</td>\n",
       "      <td>KMTCORVA9</td>\n",
       "      <td>2017-06-30T11:48:13+00:00</td>\n",
       "      <td>2017-07-01T03:31:54+00:00</td>\n",
       "    </tr>\n",
       "    <tr>\n",
       "      <th>1</th>\n",
       "      <td>2017-07-01T09:06:37+00:00</td>\n",
       "      <td>2017-07-02T06:13:53+00:00</td>\n",
       "      <td>2017-07-01T11:10:21+00:00</td>\n",
       "      <td>2017-07-02T04:10:09+00:00</td>\n",
       "      <td>2017-07-01</td>\n",
       "      <td>56572</td>\n",
       "      <td>2017-07-01T10:18:31+00:00</td>\n",
       "      <td>2017-07-02T05:01:59+00:00</td>\n",
       "      <td>2017-07-01T19:40:15+00:00</td>\n",
       "      <td>KMTCORVA9</td>\n",
       "      <td>2017-07-01T11:48:49+00:00</td>\n",
       "      <td>2017-07-02T03:31:41+00:00</td>\n",
       "    </tr>\n",
       "  </tbody>\n",
       "</table>\n",
       "</div>"
      ],
      "text/plain": [
       "  astronomical_twilight_begin  astronomical_twilight_end  \\\n",
       "0   2017-06-30T09:05:17+00:00  2017-07-01T06:14:50+00:00   \n",
       "1   2017-07-01T09:06:37+00:00  2017-07-02T06:13:53+00:00   \n",
       "\n",
       "        civil_twilight_begin         civil_twilight_end        date  \\\n",
       "0  2017-06-30T11:09:41+00:00  2017-07-01T04:10:26+00:00  2017-06-30   \n",
       "1  2017-07-01T11:10:21+00:00  2017-07-02T04:10:09+00:00  2017-07-01   \n",
       "\n",
       "   day_length    nautical_twilight_begin      nautical_twilight_end  \\\n",
       "0       56621  2017-06-30T10:17:42+00:00  2017-07-01T05:02:26+00:00   \n",
       "1       56572  2017-07-01T10:18:31+00:00  2017-07-02T05:01:59+00:00   \n",
       "\n",
       "                  solar_noon station_id                    sunrise  \\\n",
       "0  2017-06-30T19:40:04+00:00  KMTCORVA9  2017-06-30T11:48:13+00:00   \n",
       "1  2017-07-01T19:40:15+00:00  KMTCORVA9  2017-07-01T11:48:49+00:00   \n",
       "\n",
       "                      sunset  \n",
       "0  2017-07-01T03:31:54+00:00  \n",
       "1  2017-07-02T03:31:41+00:00  "
      ]
     },
     "execution_count": 34,
     "metadata": {},
     "output_type": "execute_result"
    }
   ],
   "source": [
    "sun.head(2)"
   ]
  },
  {
   "cell_type": "markdown",
   "metadata": {},
   "source": [
    "*add local time column*"
   ]
  },
  {
   "cell_type": "markdown",
   "metadata": {},
   "source": [
    "# New DataFrame"
   ]
  },
  {
   "cell_type": "markdown",
   "metadata": {},
   "source": [
    "### Column for values at Sunrise and Sunset\n",
    "* 'values' refers to temperature and pressure data\n",
    "* indexed by day\n",
    "* date will go sunrise to sunset\n",
    "* columns = ['rise_tempi','set_tempi','rise_pressurei','set_pressurei']\n",
    "* index = ['2017-07-01', .... '2017-10-31']"
   ]
  },
  {
   "cell_type": "code",
   "execution_count": null,
   "metadata": {
    "collapsed": true
   },
   "outputs": [],
   "source": []
  },
  {
   "cell_type": "markdown",
   "metadata": {},
   "source": [
    "### Difference sunset, sunrise values"
   ]
  },
  {
   "cell_type": "code",
   "execution_count": null,
   "metadata": {
    "collapsed": true
   },
   "outputs": [],
   "source": []
  },
  {
   "cell_type": "markdown",
   "metadata": {},
   "source": [
    "### Max, min, ave : sunset to sunrise : sunrise to sunset"
   ]
  },
  {
   "cell_type": "code",
   "execution_count": null,
   "metadata": {
    "collapsed": true
   },
   "outputs": [],
   "source": []
  },
  {
   "cell_type": "markdown",
   "metadata": {},
   "source": [
    "### Difference max, min, ave sunset to sunrise : sunrise to sunset"
   ]
  },
  {
   "cell_type": "code",
   "execution_count": null,
   "metadata": {
    "collapsed": true
   },
   "outputs": [],
   "source": []
  },
  {
   "cell_type": "code",
   "execution_count": null,
   "metadata": {
    "collapsed": true
   },
   "outputs": [],
   "source": []
  },
  {
   "cell_type": "code",
   "execution_count": null,
   "metadata": {
    "collapsed": true
   },
   "outputs": [],
   "source": []
  },
  {
   "cell_type": "markdown",
   "metadata": {},
   "source": [
    "### Scratch"
   ]
  },
  {
   "cell_type": "code",
   "execution_count": 21,
   "metadata": {
    "collapsed": true
   },
   "outputs": [],
   "source": [
    "col = ['astronomical_twilight_begin','astronomical_twilight_end','civil_twilight_begin',\n",
    "       'civil_twilight_end','date','day_length','nautical_twilight_begin','nautical_twilight_end',\n",
    "       'solar_noon','station_id','sunrise','sunset']"
   ]
  }
 ],
 "metadata": {
  "kernelspec": {
   "display_name": "Python 3",
   "language": "python",
   "name": "python3"
  },
  "language_info": {
   "codemirror_mode": {
    "name": "ipython",
    "version": 3
   },
   "file_extension": ".py",
   "mimetype": "text/x-python",
   "name": "python",
   "nbconvert_exporter": "python",
   "pygments_lexer": "ipython3",
   "version": "3.6.3"
  }
 },
 "nbformat": 4,
 "nbformat_minor": 2
}
